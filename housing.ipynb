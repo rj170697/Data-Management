{
 "cells": [
  {
   "cell_type": "code",
   "execution_count": 18,
   "id": "a1e2754b",
   "metadata": {},
   "outputs": [],
   "source": [
    "import numpy as np           #Rutvik Patel     Matr no - 649314\n",
    "import pandas as pd          #,
    "import matplotlib.pyplot as plt\n",
    "import seaborn as sns"
   ]
  },
  {
   "cell_type": "code",
   "execution_count": 19,
   "id": "c6c42b1f",
   "metadata": {},
   "outputs": [],
   "source": [
    "df=pd.read_csv('D:\\data set\\Data Sets\\Housing.csv')"
   ]
  },
  {
   "cell_type": "code",
   "execution_count": 20,
   "id": "f373ad1e",
   "metadata": {},
   "outputs": [
    {
     "data": {
      "text/html": [
       "<div>\n",
       "<style scoped>\n",
       "    .dataframe tbody tr th:only-of-type {\n",
       "        vertical-align: middle;\n",
       "    }\n",
       "\n",
       "    .dataframe tbody tr th {\n",
       "        vertical-align: top;\n",
       "    }\n",
       "\n",
       "    .dataframe thead th {\n",
       "        text-align: right;\n",
       "    }\n",
       "</style>\n",
       "<table border=\"1\" class=\"dataframe\">\n",
       "  <thead>\n",
       "    <tr style=\"text-align: right;\">\n",
       "      <th></th>\n",
       "      <th>price</th>\n",
       "      <th>area</th>\n",
       "      <th>bedrooms</th>\n",
       "      <th>bathrooms</th>\n",
       "      <th>stories</th>\n",
       "      <th>mainroad</th>\n",
       "      <th>guestroom</th>\n",
       "      <th>basement</th>\n",
       "      <th>hotwaterheating</th>\n",
       "      <th>airconditioning</th>\n",
       "      <th>parking</th>\n",
       "      <th>prefarea</th>\n",
       "      <th>furnishingstatus</th>\n",
       "    </tr>\n",
       "  </thead>\n",
       "  <tbody>\n",
       "    <tr>\n",
       "      <th>0</th>\n",
       "      <td>13300000</td>\n",
       "      <td>7420</td>\n",
       "      <td>4</td>\n",
       "      <td>2</td>\n",
       "      <td>3</td>\n",
       "      <td>yes</td>\n",
       "      <td>no</td>\n",
       "      <td>no</td>\n",
       "      <td>no</td>\n",
       "      <td>yes</td>\n",
       "      <td>2</td>\n",
       "      <td>yes</td>\n",
       "      <td>furnished</td>\n",
       "    </tr>\n",
       "    <tr>\n",
       "      <th>1</th>\n",
       "      <td>12250000</td>\n",
       "      <td>8960</td>\n",
       "      <td>4</td>\n",
       "      <td>4</td>\n",
       "      <td>4</td>\n",
       "      <td>yes</td>\n",
       "      <td>no</td>\n",
       "      <td>no</td>\n",
       "      <td>no</td>\n",
       "      <td>yes</td>\n",
       "      <td>3</td>\n",
       "      <td>no</td>\n",
       "      <td>furnished</td>\n",
       "    </tr>\n",
       "    <tr>\n",
       "      <th>2</th>\n",
       "      <td>12250000</td>\n",
       "      <td>9960</td>\n",
       "      <td>3</td>\n",
       "      <td>2</td>\n",
       "      <td>2</td>\n",
       "      <td>yes</td>\n",
       "      <td>no</td>\n",
       "      <td>yes</td>\n",
       "      <td>no</td>\n",
       "      <td>no</td>\n",
       "      <td>2</td>\n",
       "      <td>yes</td>\n",
       "      <td>semi-furnished</td>\n",
       "    </tr>\n",
       "    <tr>\n",
       "      <th>3</th>\n",
       "      <td>12215000</td>\n",
       "      <td>7500</td>\n",
       "      <td>4</td>\n",
       "      <td>2</td>\n",
       "      <td>2</td>\n",
       "      <td>yes</td>\n",
       "      <td>no</td>\n",
       "      <td>yes</td>\n",
       "      <td>no</td>\n",
       "      <td>yes</td>\n",
       "      <td>3</td>\n",
       "      <td>yes</td>\n",
       "      <td>furnished</td>\n",
       "    </tr>\n",
       "    <tr>\n",
       "      <th>4</th>\n",
       "      <td>11410000</td>\n",
       "      <td>7420</td>\n",
       "      <td>4</td>\n",
       "      <td>1</td>\n",
       "      <td>2</td>\n",
       "      <td>yes</td>\n",
       "      <td>yes</td>\n",
       "      <td>yes</td>\n",
       "      <td>no</td>\n",
       "      <td>yes</td>\n",
       "      <td>2</td>\n",
       "      <td>no</td>\n",
       "      <td>furnished</td>\n",
       "    </tr>\n",
       "    <tr>\n",
       "      <th>...</th>\n",
       "      <td>...</td>\n",
       "      <td>...</td>\n",
       "      <td>...</td>\n",
       "      <td>...</td>\n",
       "      <td>...</td>\n",
       "      <td>...</td>\n",
       "      <td>...</td>\n",
       "      <td>...</td>\n",
       "      <td>...</td>\n",
       "      <td>...</td>\n",
       "      <td>...</td>\n",
       "      <td>...</td>\n",
       "      <td>...</td>\n",
       "    </tr>\n",
       "    <tr>\n",
       "      <th>540</th>\n",
       "      <td>1820000</td>\n",
       "      <td>3000</td>\n",
       "      <td>2</td>\n",
       "      <td>1</td>\n",
       "      <td>1</td>\n",
       "      <td>yes</td>\n",
       "      <td>no</td>\n",
       "      <td>yes</td>\n",
       "      <td>no</td>\n",
       "      <td>no</td>\n",
       "      <td>2</td>\n",
       "      <td>no</td>\n",
       "      <td>unfurnished</td>\n",
       "    </tr>\n",
       "    <tr>\n",
       "      <th>541</th>\n",
       "      <td>1767150</td>\n",
       "      <td>2400</td>\n",
       "      <td>3</td>\n",
       "      <td>1</td>\n",
       "      <td>1</td>\n",
       "      <td>no</td>\n",
       "      <td>no</td>\n",
       "      <td>no</td>\n",
       "      <td>no</td>\n",
       "      <td>no</td>\n",
       "      <td>0</td>\n",
       "      <td>no</td>\n",
       "      <td>semi-furnished</td>\n",
       "    </tr>\n",
       "    <tr>\n",
       "      <th>542</th>\n",
       "      <td>1750000</td>\n",
       "      <td>3620</td>\n",
       "      <td>2</td>\n",
       "      <td>1</td>\n",
       "      <td>1</td>\n",
       "      <td>yes</td>\n",
       "      <td>no</td>\n",
       "      <td>no</td>\n",
       "      <td>no</td>\n",
       "      <td>no</td>\n",
       "      <td>0</td>\n",
       "      <td>no</td>\n",
       "      <td>unfurnished</td>\n",
       "    </tr>\n",
       "    <tr>\n",
       "      <th>543</th>\n",
       "      <td>1750000</td>\n",
       "      <td>2910</td>\n",
       "      <td>3</td>\n",
       "      <td>1</td>\n",
       "      <td>1</td>\n",
       "      <td>no</td>\n",
       "      <td>no</td>\n",
       "      <td>no</td>\n",
       "      <td>no</td>\n",
       "      <td>no</td>\n",
       "      <td>0</td>\n",
       "      <td>no</td>\n",
       "      <td>furnished</td>\n",
       "    </tr>\n",
       "    <tr>\n",
       "      <th>544</th>\n",
       "      <td>1750000</td>\n",
       "      <td>3850</td>\n",
       "      <td>3</td>\n",
       "      <td>1</td>\n",
       "      <td>2</td>\n",
       "      <td>yes</td>\n",
       "      <td>no</td>\n",
       "      <td>no</td>\n",
       "      <td>no</td>\n",
       "      <td>no</td>\n",
       "      <td>0</td>\n",
       "      <td>no</td>\n",
       "      <td>unfurnished</td>\n",
       "    </tr>\n",
       "  </tbody>\n",
       "</table>\n",
       "<p>545 rows × 13 columns</p>\n",
       "</div>"
      ],
      "text/plain": [
       "        price  area  bedrooms  bathrooms  stories mainroad guestroom basement  \\\n",
       "0    13300000  7420         4          2        3      yes        no       no   \n",
       "1    12250000  8960         4          4        4      yes        no       no   \n",
       "2    12250000  9960         3          2        2      yes        no      yes   \n",
       "3    12215000  7500         4          2        2      yes        no      yes   \n",
       "4    11410000  7420         4          1        2      yes       yes      yes   \n",
       "..        ...   ...       ...        ...      ...      ...       ...      ...   \n",
       "540   1820000  3000         2          1        1      yes        no      yes   \n",
       "541   1767150  2400         3          1        1       no        no       no   \n",
       "542   1750000  3620         2          1        1      yes        no       no   \n",
       "543   1750000  2910         3          1        1       no        no       no   \n",
       "544   1750000  3850         3          1        2      yes        no       no   \n",
       "\n",
       "    hotwaterheating airconditioning  parking prefarea furnishingstatus  \n",
       "0                no             yes        2      yes        furnished  \n",
       "1                no             yes        3       no        furnished  \n",
       "2                no              no        2      yes   semi-furnished  \n",
       "3                no             yes        3      yes        furnished  \n",
       "4                no             yes        2       no        furnished  \n",
       "..              ...             ...      ...      ...              ...  \n",
       "540              no              no        2       no      unfurnished  \n",
       "541              no              no        0       no   semi-furnished  \n",
       "542              no              no        0       no      unfurnished  \n",
       "543              no              no        0       no        furnished  \n",
       "544              no              no        0       no      unfurnished  \n",
       "\n",
       "[545 rows x 13 columns]"
      ]
     },
     "execution_count": 20,
     "metadata": {},
     "output_type": "execute_result"
    }
   ],
   "source": [
    "df"
   ]
  },
  {
   "cell_type": "code",
   "execution_count": 21,
   "id": "5b1119b4",
   "metadata": {},
   "outputs": [
    {
     "data": {
      "text/plain": [
       "array([2, 3, 0, 1], dtype=int64)"
      ]
     },
     "execution_count": 21,
     "metadata": {},
     "output_type": "execute_result"
    }
   ],
   "source": [
    "df.parking.unique()"
   ]
  },
  {
   "cell_type": "code",
   "execution_count": 22,
   "id": "01ec5ff8",
   "metadata": {},
   "outputs": [
    {
     "data": {
      "text/plain": [
       "count    5.450000e+02\n",
       "mean     4.766729e+06\n",
       "std      1.870440e+06\n",
       "min      1.750000e+06\n",
       "25%      3.430000e+06\n",
       "50%      4.340000e+06\n",
       "75%      5.740000e+06\n",
       "max      1.330000e+07\n",
       "Name: price, dtype: float64"
      ]
     },
     "execution_count": 22,
     "metadata": {},
     "output_type": "execute_result"
    }
   ],
   "source": [
    "df_lr=df.copy()\n",
    "df.price.describe()"
   ]
  },
  {
   "cell_type": "code",
   "execution_count": 23,
   "id": "d442e5a7",
   "metadata": {},
   "outputs": [],
   "source": [
    "def dummies(x,df):\n",
    "    temp=pd.get_dummies(df[x],drop_first=True)\n",
    "    df=pd.concat([df,temp],axis=1)\n",
    "    df.drop([x],axis=1,inplace=True)\n",
    "    return df\n",
    "df_lr=dummies('furnishingstatus',df_lr)"
   ]
  },
  {
   "cell_type": "code",
   "execution_count": 24,
   "id": "3a3e6892",
   "metadata": {},
   "outputs": [
    {
     "data": {
      "text/html": [
       "<div>\n",
       "<style scoped>\n",
       "    .dataframe tbody tr th:only-of-type {\n",
       "        vertical-align: middle;\n",
       "    }\n",
       "\n",
       "    .dataframe tbody tr th {\n",
       "        vertical-align: top;\n",
       "    }\n",
       "\n",
       "    .dataframe thead th {\n",
       "        text-align: right;\n",
       "    }\n",
       "</style>\n",
       "<table border=\"1\" class=\"dataframe\">\n",
       "  <thead>\n",
       "    <tr style=\"text-align: right;\">\n",
       "      <th></th>\n",
       "      <th>price</th>\n",
       "      <th>area</th>\n",
       "      <th>bedrooms</th>\n",
       "      <th>bathrooms</th>\n",
       "      <th>stories</th>\n",
       "      <th>mainroad</th>\n",
       "      <th>guestroom</th>\n",
       "      <th>basement</th>\n",
       "      <th>hotwaterheating</th>\n",
       "      <th>airconditioning</th>\n",
       "      <th>parking</th>\n",
       "      <th>prefarea</th>\n",
       "      <th>semi-furnished</th>\n",
       "      <th>unfurnished</th>\n",
       "    </tr>\n",
       "  </thead>\n",
       "  <tbody>\n",
       "    <tr>\n",
       "      <th>0</th>\n",
       "      <td>13300000</td>\n",
       "      <td>7420</td>\n",
       "      <td>4</td>\n",
       "      <td>2</td>\n",
       "      <td>3</td>\n",
       "      <td>yes</td>\n",
       "      <td>no</td>\n",
       "      <td>no</td>\n",
       "      <td>no</td>\n",
       "      <td>yes</td>\n",
       "      <td>2</td>\n",
       "      <td>yes</td>\n",
       "      <td>0</td>\n",
       "      <td>0</td>\n",
       "    </tr>\n",
       "    <tr>\n",
       "      <th>1</th>\n",
       "      <td>12250000</td>\n",
       "      <td>8960</td>\n",
       "      <td>4</td>\n",
       "      <td>4</td>\n",
       "      <td>4</td>\n",
       "      <td>yes</td>\n",
       "      <td>no</td>\n",
       "      <td>no</td>\n",
       "      <td>no</td>\n",
       "      <td>yes</td>\n",
       "      <td>3</td>\n",
       "      <td>no</td>\n",
       "      <td>0</td>\n",
       "      <td>0</td>\n",
       "    </tr>\n",
       "    <tr>\n",
       "      <th>2</th>\n",
       "      <td>12250000</td>\n",
       "      <td>9960</td>\n",
       "      <td>3</td>\n",
       "      <td>2</td>\n",
       "      <td>2</td>\n",
       "      <td>yes</td>\n",
       "      <td>no</td>\n",
       "      <td>yes</td>\n",
       "      <td>no</td>\n",
       "      <td>no</td>\n",
       "      <td>2</td>\n",
       "      <td>yes</td>\n",
       "      <td>1</td>\n",
       "      <td>0</td>\n",
       "    </tr>\n",
       "    <tr>\n",
       "      <th>3</th>\n",
       "      <td>12215000</td>\n",
       "      <td>7500</td>\n",
       "      <td>4</td>\n",
       "      <td>2</td>\n",
       "      <td>2</td>\n",
       "      <td>yes</td>\n",
       "      <td>no</td>\n",
       "      <td>yes</td>\n",
       "      <td>no</td>\n",
       "      <td>yes</td>\n",
       "      <td>3</td>\n",
       "      <td>yes</td>\n",
       "      <td>0</td>\n",
       "      <td>0</td>\n",
       "    </tr>\n",
       "    <tr>\n",
       "      <th>4</th>\n",
       "      <td>11410000</td>\n",
       "      <td>7420</td>\n",
       "      <td>4</td>\n",
       "      <td>1</td>\n",
       "      <td>2</td>\n",
       "      <td>yes</td>\n",
       "      <td>yes</td>\n",
       "      <td>yes</td>\n",
       "      <td>no</td>\n",
       "      <td>yes</td>\n",
       "      <td>2</td>\n",
       "      <td>no</td>\n",
       "      <td>0</td>\n",
       "      <td>0</td>\n",
       "    </tr>\n",
       "    <tr>\n",
       "      <th>...</th>\n",
       "      <td>...</td>\n",
       "      <td>...</td>\n",
       "      <td>...</td>\n",
       "      <td>...</td>\n",
       "      <td>...</td>\n",
       "      <td>...</td>\n",
       "      <td>...</td>\n",
       "      <td>...</td>\n",
       "      <td>...</td>\n",
       "      <td>...</td>\n",
       "      <td>...</td>\n",
       "      <td>...</td>\n",
       "      <td>...</td>\n",
       "      <td>...</td>\n",
       "    </tr>\n",
       "    <tr>\n",
       "      <th>540</th>\n",
       "      <td>1820000</td>\n",
       "      <td>3000</td>\n",
       "      <td>2</td>\n",
       "      <td>1</td>\n",
       "      <td>1</td>\n",
       "      <td>yes</td>\n",
       "      <td>no</td>\n",
       "      <td>yes</td>\n",
       "      <td>no</td>\n",
       "      <td>no</td>\n",
       "      <td>2</td>\n",
       "      <td>no</td>\n",
       "      <td>0</td>\n",
       "      <td>1</td>\n",
       "    </tr>\n",
       "    <tr>\n",
       "      <th>541</th>\n",
       "      <td>1767150</td>\n",
       "      <td>2400</td>\n",
       "      <td>3</td>\n",
       "      <td>1</td>\n",
       "      <td>1</td>\n",
       "      <td>no</td>\n",
       "      <td>no</td>\n",
       "      <td>no</td>\n",
       "      <td>no</td>\n",
       "      <td>no</td>\n",
       "      <td>0</td>\n",
       "      <td>no</td>\n",
       "      <td>1</td>\n",
       "      <td>0</td>\n",
       "    </tr>\n",
       "    <tr>\n",
       "      <th>542</th>\n",
       "      <td>1750000</td>\n",
       "      <td>3620</td>\n",
       "      <td>2</td>\n",
       "      <td>1</td>\n",
       "      <td>1</td>\n",
       "      <td>yes</td>\n",
       "      <td>no</td>\n",
       "      <td>no</td>\n",
       "      <td>no</td>\n",
       "      <td>no</td>\n",
       "      <td>0</td>\n",
       "      <td>no</td>\n",
       "      <td>0</td>\n",
       "      <td>1</td>\n",
       "    </tr>\n",
       "    <tr>\n",
       "      <th>543</th>\n",
       "      <td>1750000</td>\n",
       "      <td>2910</td>\n",
       "      <td>3</td>\n",
       "      <td>1</td>\n",
       "      <td>1</td>\n",
       "      <td>no</td>\n",
       "      <td>no</td>\n",
       "      <td>no</td>\n",
       "      <td>no</td>\n",
       "      <td>no</td>\n",
       "      <td>0</td>\n",
       "      <td>no</td>\n",
       "      <td>0</td>\n",
       "      <td>0</td>\n",
       "    </tr>\n",
       "    <tr>\n",
       "      <th>544</th>\n",
       "      <td>1750000</td>\n",
       "      <td>3850</td>\n",
       "      <td>3</td>\n",
       "      <td>1</td>\n",
       "      <td>2</td>\n",
       "      <td>yes</td>\n",
       "      <td>no</td>\n",
       "      <td>no</td>\n",
       "      <td>no</td>\n",
       "      <td>no</td>\n",
       "      <td>0</td>\n",
       "      <td>no</td>\n",
       "      <td>0</td>\n",
       "      <td>1</td>\n",
       "    </tr>\n",
       "  </tbody>\n",
       "</table>\n",
       "<p>545 rows × 14 columns</p>\n",
       "</div>"
      ],
      "text/plain": [
       "        price  area  bedrooms  bathrooms  stories mainroad guestroom basement  \\\n",
       "0    13300000  7420         4          2        3      yes        no       no   \n",
       "1    12250000  8960         4          4        4      yes        no       no   \n",
       "2    12250000  9960         3          2        2      yes        no      yes   \n",
       "3    12215000  7500         4          2        2      yes        no      yes   \n",
       "4    11410000  7420         4          1        2      yes       yes      yes   \n",
       "..        ...   ...       ...        ...      ...      ...       ...      ...   \n",
       "540   1820000  3000         2          1        1      yes        no      yes   \n",
       "541   1767150  2400         3          1        1       no        no       no   \n",
       "542   1750000  3620         2          1        1      yes        no       no   \n",
       "543   1750000  2910         3          1        1       no        no       no   \n",
       "544   1750000  3850         3          1        2      yes        no       no   \n",
       "\n",
       "    hotwaterheating airconditioning  parking prefarea  semi-furnished  \\\n",
       "0                no             yes        2      yes               0   \n",
       "1                no             yes        3       no               0   \n",
       "2                no              no        2      yes               1   \n",
       "3                no             yes        3      yes               0   \n",
       "4                no             yes        2       no               0   \n",
       "..              ...             ...      ...      ...             ...   \n",
       "540              no              no        2       no               0   \n",
       "541              no              no        0       no               1   \n",
       "542              no              no        0       no               0   \n",
       "543              no              no        0       no               0   \n",
       "544              no              no        0       no               0   \n",
       "\n",
       "     unfurnished  \n",
       "0              0  \n",
       "1              0  \n",
       "2              0  \n",
       "3              0  \n",
       "4              0  \n",
       "..           ...  \n",
       "540            1  \n",
       "541            0  \n",
       "542            1  \n",
       "543            0  \n",
       "544            1  \n",
       "\n",
       "[545 rows x 14 columns]"
      ]
     },
     "execution_count": 24,
     "metadata": {},
     "output_type": "execute_result"
    }
   ],
   "source": [
    "df_lr"
   ]
  },
  {
   "cell_type": "code",
   "execution_count": 25,
   "id": "75a247b7",
   "metadata": {},
   "outputs": [],
   "source": [
    "def tonums(x,df):\n",
    "    df[x]=df[x].map({'yes':1,'no':0})\n",
    "    return df\n",
    "df_lr=tonums('guestroom',df_lr)\n",
    "df_lr=tonums('basement',df_lr)\n",
    "df_lr=tonums('hotwaterheating',df_lr)\n",
    "df_lr=tonums('airconditioning',df_lr)\n",
    "df_lr=tonums('prefarea',df_lr)\n",
    "df_lr=tonums('mainroad',df_lr)\n",
    "yrn=['guestroom','basement','hotwaterheating','airconditioning','prefarea']"
   ]
  },
  {
   "cell_type": "code",
   "execution_count": 26,
   "id": "ecd1dc17",
   "metadata": {},
   "outputs": [
    {
     "data": {
      "text/html": [
       "<div>\n",
       "<style scoped>\n",
       "    .dataframe tbody tr th:only-of-type {\n",
       "        vertical-align: middle;\n",
       "    }\n",
       "\n",
       "    .dataframe tbody tr th {\n",
       "        vertical-align: top;\n",
       "    }\n",
       "\n",
       "    .dataframe thead th {\n",
       "        text-align: right;\n",
       "    }\n",
       "</style>\n",
       "<table border=\"1\" class=\"dataframe\">\n",
       "  <thead>\n",
       "    <tr style=\"text-align: right;\">\n",
       "      <th></th>\n",
       "      <th>price</th>\n",
       "      <th>area</th>\n",
       "      <th>bedrooms</th>\n",
       "      <th>bathrooms</th>\n",
       "      <th>stories</th>\n",
       "      <th>mainroad</th>\n",
       "      <th>guestroom</th>\n",
       "      <th>basement</th>\n",
       "      <th>hotwaterheating</th>\n",
       "      <th>airconditioning</th>\n",
       "      <th>parking</th>\n",
       "      <th>prefarea</th>\n",
       "      <th>semi-furnished</th>\n",
       "      <th>unfurnished</th>\n",
       "    </tr>\n",
       "  </thead>\n",
       "  <tbody>\n",
       "    <tr>\n",
       "      <th>0</th>\n",
       "      <td>13300000</td>\n",
       "      <td>7420</td>\n",
       "      <td>4</td>\n",
       "      <td>2</td>\n",
       "      <td>3</td>\n",
       "      <td>1</td>\n",
       "      <td>0</td>\n",
       "      <td>0</td>\n",
       "      <td>0</td>\n",
       "      <td>1</td>\n",
       "      <td>2</td>\n",
       "      <td>1</td>\n",
       "      <td>0</td>\n",
       "      <td>0</td>\n",
       "    </tr>\n",
       "    <tr>\n",
       "      <th>1</th>\n",
       "      <td>12250000</td>\n",
       "      <td>8960</td>\n",
       "      <td>4</td>\n",
       "      <td>4</td>\n",
       "      <td>4</td>\n",
       "      <td>1</td>\n",
       "      <td>0</td>\n",
       "      <td>0</td>\n",
       "      <td>0</td>\n",
       "      <td>1</td>\n",
       "      <td>3</td>\n",
       "      <td>0</td>\n",
       "      <td>0</td>\n",
       "      <td>0</td>\n",
       "    </tr>\n",
       "    <tr>\n",
       "      <th>2</th>\n",
       "      <td>12250000</td>\n",
       "      <td>9960</td>\n",
       "      <td>3</td>\n",
       "      <td>2</td>\n",
       "      <td>2</td>\n",
       "      <td>1</td>\n",
       "      <td>0</td>\n",
       "      <td>1</td>\n",
       "      <td>0</td>\n",
       "      <td>0</td>\n",
       "      <td>2</td>\n",
       "      <td>1</td>\n",
       "      <td>1</td>\n",
       "      <td>0</td>\n",
       "    </tr>\n",
       "    <tr>\n",
       "      <th>3</th>\n",
       "      <td>12215000</td>\n",
       "      <td>7500</td>\n",
       "      <td>4</td>\n",
       "      <td>2</td>\n",
       "      <td>2</td>\n",
       "      <td>1</td>\n",
       "      <td>0</td>\n",
       "      <td>1</td>\n",
       "      <td>0</td>\n",
       "      <td>1</td>\n",
       "      <td>3</td>\n",
       "      <td>1</td>\n",
       "      <td>0</td>\n",
       "      <td>0</td>\n",
       "    </tr>\n",
       "    <tr>\n",
       "      <th>4</th>\n",
       "      <td>11410000</td>\n",
       "      <td>7420</td>\n",
       "      <td>4</td>\n",
       "      <td>1</td>\n",
       "      <td>2</td>\n",
       "      <td>1</td>\n",
       "      <td>1</td>\n",
       "      <td>1</td>\n",
       "      <td>0</td>\n",
       "      <td>1</td>\n",
       "      <td>2</td>\n",
       "      <td>0</td>\n",
       "      <td>0</td>\n",
       "      <td>0</td>\n",
       "    </tr>\n",
       "    <tr>\n",
       "      <th>...</th>\n",
       "      <td>...</td>\n",
       "      <td>...</td>\n",
       "      <td>...</td>\n",
       "      <td>...</td>\n",
       "      <td>...</td>\n",
       "      <td>...</td>\n",
       "      <td>...</td>\n",
       "      <td>...</td>\n",
       "      <td>...</td>\n",
       "      <td>...</td>\n",
       "      <td>...</td>\n",
       "      <td>...</td>\n",
       "      <td>...</td>\n",
       "      <td>...</td>\n",
       "    </tr>\n",
       "    <tr>\n",
       "      <th>540</th>\n",
       "      <td>1820000</td>\n",
       "      <td>3000</td>\n",
       "      <td>2</td>\n",
       "      <td>1</td>\n",
       "      <td>1</td>\n",
       "      <td>1</td>\n",
       "      <td>0</td>\n",
       "      <td>1</td>\n",
       "      <td>0</td>\n",
       "      <td>0</td>\n",
       "      <td>2</td>\n",
       "      <td>0</td>\n",
       "      <td>0</td>\n",
       "      <td>1</td>\n",
       "    </tr>\n",
       "    <tr>\n",
       "      <th>541</th>\n",
       "      <td>1767150</td>\n",
       "      <td>2400</td>\n",
       "      <td>3</td>\n",
       "      <td>1</td>\n",
       "      <td>1</td>\n",
       "      <td>0</td>\n",
       "      <td>0</td>\n",
       "      <td>0</td>\n",
       "      <td>0</td>\n",
       "      <td>0</td>\n",
       "      <td>0</td>\n",
       "      <td>0</td>\n",
       "      <td>1</td>\n",
       "      <td>0</td>\n",
       "    </tr>\n",
       "    <tr>\n",
       "      <th>542</th>\n",
       "      <td>1750000</td>\n",
       "      <td>3620</td>\n",
       "      <td>2</td>\n",
       "      <td>1</td>\n",
       "      <td>1</td>\n",
       "      <td>1</td>\n",
       "      <td>0</td>\n",
       "      <td>0</td>\n",
       "      <td>0</td>\n",
       "      <td>0</td>\n",
       "      <td>0</td>\n",
       "      <td>0</td>\n",
       "      <td>0</td>\n",
       "      <td>1</td>\n",
       "    </tr>\n",
       "    <tr>\n",
       "      <th>543</th>\n",
       "      <td>1750000</td>\n",
       "      <td>2910</td>\n",
       "      <td>3</td>\n",
       "      <td>1</td>\n",
       "      <td>1</td>\n",
       "      <td>0</td>\n",
       "      <td>0</td>\n",
       "      <td>0</td>\n",
       "      <td>0</td>\n",
       "      <td>0</td>\n",
       "      <td>0</td>\n",
       "      <td>0</td>\n",
       "      <td>0</td>\n",
       "      <td>0</td>\n",
       "    </tr>\n",
       "    <tr>\n",
       "      <th>544</th>\n",
       "      <td>1750000</td>\n",
       "      <td>3850</td>\n",
       "      <td>3</td>\n",
       "      <td>1</td>\n",
       "      <td>2</td>\n",
       "      <td>1</td>\n",
       "      <td>0</td>\n",
       "      <td>0</td>\n",
       "      <td>0</td>\n",
       "      <td>0</td>\n",
       "      <td>0</td>\n",
       "      <td>0</td>\n",
       "      <td>0</td>\n",
       "      <td>1</td>\n",
       "    </tr>\n",
       "  </tbody>\n",
       "</table>\n",
       "<p>545 rows × 14 columns</p>\n",
       "</div>"
      ],
      "text/plain": [
       "        price  area  bedrooms  bathrooms  stories  mainroad  guestroom  \\\n",
       "0    13300000  7420         4          2        3         1          0   \n",
       "1    12250000  8960         4          4        4         1          0   \n",
       "2    12250000  9960         3          2        2         1          0   \n",
       "3    12215000  7500         4          2        2         1          0   \n",
       "4    11410000  7420         4          1        2         1          1   \n",
       "..        ...   ...       ...        ...      ...       ...        ...   \n",
       "540   1820000  3000         2          1        1         1          0   \n",
       "541   1767150  2400         3          1        1         0          0   \n",
       "542   1750000  3620         2          1        1         1          0   \n",
       "543   1750000  2910         3          1        1         0          0   \n",
       "544   1750000  3850         3          1        2         1          0   \n",
       "\n",
       "     basement  hotwaterheating  airconditioning  parking  prefarea  \\\n",
       "0           0                0                1        2         1   \n",
       "1           0                0                1        3         0   \n",
       "2           1                0                0        2         1   \n",
       "3           1                0                1        3         1   \n",
       "4           1                0                1        2         0   \n",
       "..        ...              ...              ...      ...       ...   \n",
       "540         1                0                0        2         0   \n",
       "541         0                0                0        0         0   \n",
       "542         0                0                0        0         0   \n",
       "543         0                0                0        0         0   \n",
       "544         0                0                0        0         0   \n",
       "\n",
       "     semi-furnished  unfurnished  \n",
       "0                 0            0  \n",
       "1                 0            0  \n",
       "2                 1            0  \n",
       "3                 0            0  \n",
       "4                 0            0  \n",
       "..              ...          ...  \n",
       "540               0            1  \n",
       "541               1            0  \n",
       "542               0            1  \n",
       "543               0            0  \n",
       "544               0            1  \n",
       "\n",
       "[545 rows x 14 columns]"
      ]
     },
     "execution_count": 26,
     "metadata": {},
     "output_type": "execute_result"
    }
   ],
   "source": [
    "df_lr"
   ]
  },
  {
   "cell_type": "code",
   "execution_count": 27,
   "id": "2c49125c",
   "metadata": {},
   "outputs": [
    {
     "data": {
      "text/plain": [
       "price              0\n",
       "area               0\n",
       "bedrooms           0\n",
       "bathrooms          0\n",
       "stories            0\n",
       "mainroad           0\n",
       "guestroom          0\n",
       "basement           0\n",
       "hotwaterheating    0\n",
       "airconditioning    0\n",
       "parking            0\n",
       "prefarea           0\n",
       "semi-furnished     0\n",
       "unfurnished        0\n",
       "dtype: int64"
      ]
     },
     "execution_count": 27,
     "metadata": {},
     "output_type": "execute_result"
    }
   ],
   "source": [
    "df_lr.isnull().sum()"
   ]
  },
  {
   "cell_type": "code",
   "execution_count": 28,
   "id": "be645307",
   "metadata": {},
   "outputs": [
    {
     "data": {
      "text/plain": [
       "<Figure size 1800x432 with 0 Axes>"
      ]
     },
     "metadata": {},
     "output_type": "display_data"
    },
    {
     "data": {
      "image/png": "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\n",
      "text/plain": [
       "<Figure size 432x288 with 1 Axes>"
      ]
     },
     "metadata": {
      "needs_background": "light"
     },
     "output_type": "display_data"
    }
   ],
   "source": [
    "plt.figure(figsize=(25,6))\n",
    "pltdf=pd.DataFrame(df.groupby(['furnishingstatus'])['price'].mean().sort_values())\n",
    "pltdf.plot.bar()\n",
    "plt.show()            #here we can see from graph that price of apartments increases with more furnishingstatus"
   ]
  },
  {
   "cell_type": "code",
   "execution_count": 29,
   "id": "7daa0b90",
   "metadata": {},
   "outputs": [
    {
     "name": "stderr",
     "output_type": "stream",
     "text": [
      "C:\\Users\\A\\.conda\\envs\\jupycourse\\lib\\site-packages\\seaborn\\_decorators.py:36: FutureWarning: Pass the following variable as a keyword arg: x. From version 0.12, the only valid positional argument will be `data`, and passing other arguments without an explicit keyword will result in an error or misinterpretation.\n",
      "  warnings.warn(\n"
     ]
    },
    {
     "data": {
      "text/plain": [
       "<function matplotlib.pyplot.show(close=None, block=None)>"
      ]
     },
     "execution_count": 29,
     "metadata": {},
     "output_type": "execute_result"
    },
    {
     "data": {
      "image/png": "iVBORw0KGgoAAAANSUhEUgAABJIAAAGDCAYAAABwXzqGAAAAOXRFWHRTb2Z0d2FyZQBNYXRwbG90bGliIHZlcnNpb24zLjUuMSwgaHR0cHM6Ly9tYXRwbG90bGliLm9yZy/YYfK9AAAACXBIWXMAAAsTAAALEwEAmpwYAAA5e0lEQVR4nO3de5xddX3v/9d7klEQvJGJVAmINWhFiygRT2nrpZrIWJVqtWJbO7Za9FST2p6eo63+vHuO1/Y0qRZQKdOLWu9STSSpFukRb6AQAQuJECWCwARvCOKE+fz+2Cu4M5mZbEhm1p7J6/l4zGP2Wuu71nrPZs3ky2d/13elqpAkSZIkSZL2ZqDtAJIkSZIkSZofLCRJkiRJkiSpJxaSJEmSJEmS1BMLSZIkSZIkSeqJhSRJkiRJkiT1xEKSJEmSJEmSemIhSdJdkuSZSa5JcnOSR7WdZ39LcniS85P8OMk79/OxX5Dk/+3PY0qSJM13SS5L8oS2c0ia2eK2A0iat94BvKyqPtl2kFlyGjAG3Kuqqu0wkiRJC11VPbztDJL2zhFJkvaQpJci8wOBy2bx+G17IHC5RSRJkrQQ9HP/q5+zSdqThSTpAJFkW5K/THJ5ku8n+YckBzXbnpBke5JXJPke8A9JBpK8Msm3kuxI8qEkhyW5e5KbgUXAJUm+1RzjAUk+muTGJFcnWdN17tcl+UiSf07yI+AFSe6d5H1Jrkvy3SRvSrKoaf+CJP8vyTuarFcnGe463mFN/mub7Z/o2va0JBcn+UGSC5IcN8N7clKSryb5YfP9pGb92cAI8L+aW/eePMW+Zyc5Pcmm5va3zyd5YNf2SrImyVVJxpK8PYl/cyVJ0h66+lw/bvpqz2zW373p0zyiq+3SJLcmuV+zPG3fp+n/vSLJZuAnSRZPd66m/aIk72z6LlcneVnTp1ncbJ+2/zbFz7Sr//evzbm+luSRe8m2bVe/q8nyV11ZL0pyZLPtl5o+2E1JrkjyO/vzv4ekmfk/NdKB5feApwAPBh4CvLpr2y8Ah9EZiXMasAb4LeDxwAOA7wPvqqrbqurQZp9HVtWDmwLJvwGXAEcATwJenuQpXcc/BfgIcB/gX4BRYCewHHgUsAp4UVf7xwJXAEPA24D3JUmz7Z+AewAPB+4H/A1AkkcDZwEvBpYAZwDnJLn75DciyWHAp4G1Tdu/Bj6dZElVvaDJ+LaqOrSq/n2G9/ONTcaLm326PRNYATy6+fn/aJrjSJKkA9u3gF8H7g28HvjnJPevqtuAjwHP62r7O8Dnq+qGHvs+zwN+E7hPVe2c7lxN2z8GhoHj6fRffmtSzr313yY7BfgwnT7m+4FPJBmcIVu3P2+2PxW4F51+1C1JDgE2Nce7X9Pm3Um8LU6aIxaSpAPL31XVNVV1E/Bmdu+UTACvbQpFt9LpkLyqqrY3nZjXAc/O1EOPHwMsrao3VNXPquoq4D3AqV1tvlhVn6iqCTqdgWHg5VX1k6q6gU4xqLv9t6vqPVV1O51Oy/2Bw5uOzjDwkqr6flWNV9Xnm33+GDijqr5cVbdX1ShwG/Dfpsj8m8CWqvqnqtpZVR8A/gt4ek/vZMenq+r85v15FfAruz4pa7y1qm6qqu8A/5fd329JmteSnJXkhiSX9tD2b5oRExcnuTLJD+YgojRvVNWHq+raqpqoqn8FtgAnNpvfz+59iN9t1kFvfZ+1Tf/v1h7O9TvA3zb9v+8Db9l1kCSHs/f+22QXVdVHqmqczod2B82UbZIXAa+uqiuq45Kq2gE8DdhWVf/Q9OG+BnwUePYMOSTtR96LKh1Yrul6/W06I412ubGqftq1/EDg40kmutbdDhwOfHfScR8IPGDS/xgsAv5zmnM/EBgErvv5ICMGJrX53q4XVXVL0+5QOp9o3dR0biZ7IDCSZHXXurux+8+5ywPovAfdvk1nRFWv7shbVTcnuak57jWTt7Pn+y1J893ZwN8B/7i3hlX1Z7teN3+jF9zTPqV9keQP6IzAObpZdSidEc8AnwMOTvJYOv2j44GPN9t66ft090f2dq4HTGp/Z/tvk3X3lSaSbJ8p2yRH0hk9NdkDgcdO6ncupjNiXdIcsJAkHVi6R8scBVzbtTx5UulrgD+qqi/0cNxrgKur6pgZ2nQf/xo6n5YNTTGMuZdzHZbkPlX1gym2vbmq3tzDca6l0xHpdhTwmTuR5Y73M8muIte1k7bvmpB88vstSfNaVZ2f5OjudUkeDLwLWArcAvxxVf3XpF2fB7x2TkJK80Azx+J76EwN8MWquj3JxUDgjgLMh+j87lwPfKqqftzs3kvf544+2N7OBVwHLOvat7vveFf6b919pYHm2DP1P7tdQ2c6hsmjHq+hc2vfyh4zSNrPvLVNOrC8NMmyZn6gvwL+dYa2pwNv3jWBdDOx4ynTtP0K8KNmwsSDm8kRH5HkMVM1rqrrgI3AO5PcK52JvR+c5PF7+wGafTfQuRf+vkkGkzyu2fwe4CVJHpuOQ5L8ZpJ7TnGo9cBDkvxuM7njc4FjgU/tLUOXpyb5tSR3ozNX0perqvuTtf/ZZDwS+FNmfr8laSE4E1hdVScAfwG8u3tj82/Kg+iMsJDUcQidgsqNAEn+EHjEpDbvB55LZ37G93etvzN9n17O9SHgT5MckeQ+wCt2bbiL/bcTkjyrmRrh5XQKUV+aoX239wJvTHJM87Mdl2QJnb7aQ5I8v+kHDiZ5TJKH9XhcSfvIQpJ0YHk/nQ7AVc3Xm2Zo+7fAOcDGJD+m84/+Y6dq2Mxj9HQ6Q62vBsbo/ON/7xmO/wd0hl5fTmci74/QmQepF88HxunMaXQDnY4JVXUhnbkC/q455lbgBdNk3nWP/f8AdgD/C3haVY31mAE67+drgZuAE+h07rp9EriIzkTcnwbedyeOLUnzSjMy8yTgw80IhzPY8+/6qcBHmn83JAFVdTnwTuCLdEYc/TLwhUltvgz8hM5tYRu61vfc9+nxXO+h01fcDHydzgdvO+lMbwB3vv/2SToFsO/T6b89q5kvqRd/TaewtRH4EZ1+1MHNaKxVdP6eXEvndr+3Ans8XEXS7EjVTKMJJS0USbYBL5rhCWS6E5KcDWyvqldPs72AY6pq65wGk6Q51Nza9qmqekSSewFXVNW0/1OZ5OvAS6vqgrnKKOmuSzIMnF5Vk6cD6GXf1wHLq+r393swSa1yRJIkSZL2WVX9CLg6yXMAmltRHrlre5KHAvelMxJCUh9qpih4anPb/xF0Rl5/fG/7STqwWEiSJEnSnZbkA3SKQg9Nsj3JC+nc4vvCJJfQedhA99x6zwM+WA6Hl/pZgNfTuRXt68A3gde0mkhS3/HWNkmSJEmSJPXEEUmSJEmSJEnqiYUkSZIkSZIk9WRx2wH2xdDQUB199NFtx5AkSbPooosuGquqpW3n0M/ZB5MkaWGbqf81rwtJRx99NBdeeGHbMSRJ0ixK8u22M2h39sEkSVrYZup/eWubJEmSJEmSemIhSZIkSZIkST2xkCRJkiRJkqSeWEiSJEmSJElSTywkSZIkSZIkqScWkiRJkiRJktQTC0mSJEmSJEnqiYUkSZIkSZIk9cRCkiRJktSisbExVq9ezY4dO9qOIknSXllIkiRJklo0OjrK5s2bGR0dbTuKJEl7ZSFJkiRJasnY2BgbNmygqtiwYYOjkiRJfc9CkiRJktSS0dFRqgqAiYkJRyVJkvqehSRJkiSpJZs2bWJ8fByA8fFxNm7c2HIiSZJmtrjtAJJm9p03/HLbEdTHjnrNN9qOIEnaBytXrmT9+vWMj48zODjIqlWr2o4kSdKMHJEkSZIktWRkZIQkAAwMDDAyMtJyIkmSZmYhSZIkSWrJ0NAQw8PDJGF4eJglS5a0HUmSpBl5a5skSZLUopGREbZt2+ZoJEnSvGAhSZIkSWrR0NAQ69atazuGJEk98dY2SZIkSZIk9cRCkiRJkiRJknpiIUmSJEmSJEk9sZAkSZIkSZKknlhIkiRJkiRJUk8sJEmSJEmSJKknFpIkSZIkSZLUEwtJkiRJkiRJ6omFJEmSJEmSJPXEQpIkSZIkSZJ6YiFJkiRJkiRJPbGQJEmSJEmSpJ5YSJIkSZIkSVJPLCRJkiRJkiSpJxaSJEmSJEmS1BMLSZIkSZIkSeqJhSRJkiRJkiT1xEKSJEmS1KKxsTFWr17Njh072o4iTclrVFI3C0mSJElSi8444wwuueQSzjjjjLajSFMaHR1l8+bNjI6Oth1FUh+wkCRJkiS1ZGxsjE2bNgGwceNGR3yo74yNjbFhwwaqig0bNniNSrKQJEmSJLXljDPOYGJiAoCJiQlHJanvjI6OUlVA5xp1VJIkC0mSJElSS/793/99t+Vdo5OkfrFp0ybGx8cBGB8fZ+PGjS0nktQ2C0mSJElSS5LMuCy1beXKlQwODgIwODjIqlWrWk4kqW0WkiRJkqSWPOlJT9pt+clPfnJLSaSpjYyM3FHgHBgYYGRkpOVEktpmIUmSJGmBSnJWkhuSXDrN9t9Lsrn5uiDJI+c644HuxS9+MQMDnS75wMAAL37xi1tOJO1uaGiI4eFhkjA8PMySJUvajiSpZRaSJEmSFq6zgZNn2H418PiqOg54I3DmXITSzw0NDbFy5UoAVq1a5f+kqy+NjIxw3HHHORpJEgCL2w4gSZKk2VFV5yc5eobtF3QtfglYNuuhtIcXv/jFfO9733M0kvrW0NAQ69atazuGpD5hIUmSJEkALwQ2tB3iQOT/pEuS5hMLSZIkSQe4JE+kU0j6tRnanAacBnDUUUfNUTJJktRvZm2OpCRHJvmPJN9MclmSP23WH5ZkU5Itzff7du3zl0m2JrkiyVNmK5skSZI6khwHvBc4pap2TNeuqs6sqhVVtWLp0qVzF1CSJPWV2ZxseyfwP6rqYcB/A16a5FjglcBnq+oY4LPNMs22U4GH05kU8t1JFs1iPkmSpANakqOAjwHPr6or284jSZL636zd2lZV1wHXNa9/nOSbwBHAKcATmmajwHnAK5r1H6yq24Crk2wFTgS+OFsZJUmSFrIkH6DT7xpKsh14LTAIUFWnA68BltD5AA9gZ1WtaCetJEmaD+ZkjqTmaSGPAr4MHN4Umaiq65Lcr2l2BJ2nheyyvVk3+Vjeny9JktSDqnreXra/CHjRHMWRJEkLwGze2gZAkkOBjwIvr6ofzdR0inW1xwrvz5ckSZIkSWrFrBaSkgzSKSL9S1V9rFl9fZL7N9vvD9zQrN8OHNm1+zLg2tnMJ0mSJEmSpN7N5lPbArwP+GZV/XXXpnOAkeb1CPDJrvWnJrl7kgcBxwBfma18kiRJkiRJunNmc46kXwWeD3wjycXNur8C3gJ8KMkLge8AzwGoqsuSfAi4nM4T315aVbfPYj5JkiRJkiTdCbP51Lb/x9TzHgE8aZp93gy8ebYySZIkSZIk6a6b9cm2JUmSJEmStDBYSJIkSZJaNDY2xurVq9mxY0fbUSRJ2isLSZIkSVKLRkdH2bx5M6Ojo21HkSRprywkSZIkSS0ZGxtjw4YNVBUbNmxwVJIkqe9ZSJIkSZJaMjo6SlUBMDEx4agkSVLfs5AkSZIktWTTpk2Mj48DMD4+zsaNG1tOJEnSzCwkSZIkSS1ZuXIlg4ODAAwODrJq1aqWE0mSNDMLSZIkSVJLRkZGSALAwMAAIyMjLSeSJGlmFpIkSZKklgwNDTE8PEwShoeHWbJkSduRJEma0eK2A0iSJEkHspGREbZt2+ZoJEnSvGAhSZIkSWrR0NAQ69atazuGJEk98dY2SZIkSZIk9cRCkiRJkiRJknpiIUmSJEmSJEk9sZAkSZIkSZKknlhIkiRJkiRNa2xsjNWrV7Njx462o0jqAxaSJEmSJEnTGh0dZfPmzYyOjrYdRVIfsJAkSZIkSZrS2NgYGzZsoKrYsGGDo5IkWUiSJEmSJE1tdHSUqgJgYmLCUUmSLCRJkiRJkqa2adMmxsfHARgfH2fjxo0tJ5LUNgtJkiRJkqQprVy5ksHBQQAGBwdZtWpVy4kktc1CkiRJkiRpSiMjIyQBYGBggJGRkZYTSWqbhSRJkiRJ0pSGhoYYHh4mCcPDwyxZsqTtSJJatrjtAJIkSZKk/jUyMsK2bdscjSQJsJAkSdpHv7ruV9uOoD72hdVfaDuCJGkfDQ0NsW7durZjSOoT3tomSZIkSZKknlhIkiRJkiRJUk8sJEmSJEmSJKknFpIkSZIkSZLUEwtJkiRJkiRJ6omFJEmSJEmSJPXEQpIkSZIkSZJ6YiFJkiRJkiRJPbGQJEmSJEma1tjYGKtXr2bHjh1tR5Gm5DU6tywkSZIkSZKmNTo6yubNmxkdHW07ijQlr9G5ZSFJkiRJkjSlsbExNmzYQFWxYcMGR3yo73iNzj0LSZIkSZKkKY2OjlJVAExMTDjiQ33Ha3TuWUiSJEmSJE1p06ZNjI+PAzA+Ps7GjRtbTiTtzmt07llIkiRJWqCSnJXkhiSXTrM9SdYm2Zpkc5JHz3VGSf1t5cqVDA4OAjA4OMiqVataTiTtzmt07llIkiRJWrjOBk6eYfswcEzzdRrw93OQSdI8MjIyQhIABgYGGBkZaTmRtDuv0blnIUmSJGmBqqrzgZtmaHIK8I/V8SXgPknuPzfpJM0HQ0NDDA8Pk4Th4WGWLFnSdiRpN16jc29x2wEkSZLUmiOAa7qWtzfrrpvcMMlpdEYtcdRRR81JOEn9YWRkhG3btjnSQ33La3RuOSJJkiTpwJUp1tVUDavqzKpaUVUrli5dOsuxJPWToaEh1q1b50gPSYCFJEmSpAPZduDIruVlwLUtZZEk6S4ZHR1l8+bNjI6Oth3lgOCtbZIkSQeuc4CXJfkg8Fjgh1W1x21tC9XatWvZunVr2zHYvn07AMuWLWs1x/Lly1mzZk2rGSTpzhobG2PDhg1UFRs2bGBkZMTRc7PMEUmSJEkLVJIPAF8EHppke5IXJnlJkpc0TdYDVwFbgfcAf9JS1AParbfeyq233tp2DGlaY2NjrF69mh07drQdRdrD6OgoVZ27sicmJhyVNAcckSRJkrRAVdXz9rK9gJfOUZy+0y+jb3blWLt2bctJpKl13zb053/+523HkXazadMmxsfHARgfH2fjxo1ep7PMEUmSJEmSpClNvm3IUUnqNytXrmRwcBCAwcFBVq1a1XKihc9CkiRJkiRpSt42pH43MjJC0nkI6cDAACMjIy0nWvgsJEmSJEmSpjTVbUNSPxkaGmJ4eJgkDA8PO9H2HLCQJEmSJEmakrcNaT4YGRnhuOOOczTSHLGQJEmSJEmakrcNaT4YGhpi3bp1jkaaIxaSJEmSJElT8rYhSZMtbjuAJEmSJKl/jYyMsG3bNkcjSQIsJEmSJEmSZrDrtiFJAm9tkyRJkiTNYGxsjNWrV7Njx462o0jqAxaSJEmSJEnTGh0dZfPmzYyOjrYdRVIfsJAkSZIkSZrS2NgY69evp6pYv369o5IkWUiSJEmSJE1tdHSUnTt3AjA+Pu6oJEmzV0hKclaSG5Jc2rXudUm+m+Ti5uupXdv+MsnWJFckecps5ZIkSZIk9Wbjxo1UFQBVxbnnnttyIkltm80RSWcDJ0+x/m+q6vjmaz1AkmOBU4GHN/u8O8miWcwmSZIkSdqLww8/fMZlqR84IfzcmrVCUlWdD9zUY/NTgA9W1W1VdTWwFThxtrJJkiRJkvbu+uuvn3FZ6gdOCD+32pgj6WVJNje3vt23WXcEcE1Xm+3NOkmSJElSSx73uMfttvz4xz++pSTS1MbGxtiwYQNVxYYNGxyVNAfmupD098CDgeOB64B3NuszRdua6gBJTktyYZILb7zxxlkJKUmSJEmS+t/o6Ogd83hNTEw4KmkOzGkhqaqur6rbq2oCeA8/v31tO3BkV9NlwLXTHOPMqlpRVSuWLl06u4ElSZIk6QD2n//5n7stn3/++S0lkaa2adMmxsfHgc6TBTdu3NhyooVvTgtJSe7ftfhMYNcT3c4BTk1y9yQPAo4BvjKX2SRJkiRJu1u5ciWLFy8GYPHixaxatarlRNLuVq5cyeDgIACDg4Neo3Ng1gpJST4AfBF4aJLtSV4IvC3JN5JsBp4I/BlAVV0GfAi4HPgM8NKqun22skmSJEmS9m5kZISBgc7/Ni5atIiRkZGWE0m7GxkZIenMljMwMOA1Ogdm86ltz6uq+1fVYFUtq6r3VdXzq+qXq+q4qnpGVV3X1f7NVfXgqnpoVW2YrVySJEmSpN4MDQ3xxCc+EYAnPvGJLFmypOVE0u6GhoYYHh4mCcPDw16jc2Bx2wEkSZIkSZLuqpGREbZt2+ZopDky109tkyRJkiTNE2NjY3zuc58D4HOf+5yPVldfGhoaYt26dY5GmiMWkiRJkiRJUxodHWXnzp1A54lYPlpdkoUkSZIkSdKUNm7cSFUBUFWce+65LSeS9jQ2Nsbq1asdMTdHLCRJkiRJkqZ0+OGHz7gs9YPR0VE2b97siLk5YiFJkiRJkjSl66+/fsZlqW1jY2Ns2LCBqmLDhg2OSpoDFpIkSZIkSVNatWoVSQBIwlOe8pSWE0m7Gx0dveP2y4mJCUclzQELSZIkSZKkKY2MjDA4OAjA4OCgj1dX39m0aRPj4+NAZ0L4jRs3tpxo4VvcdoC2nfA//7HtCOpjF739D9qOIEmSJLVmaGiI4eFhzjnnHJ761Kf6eHX1nZUrV7J+/XrGx8cZHBxk1apVbUda8ByRJEmSJEma1tOf/nTucY978IxnPKPtKNIeRkZG7rj9cmBgwFFzc8BCkiRJkiRpWu973/v4yU9+wnvf+962o0h7GBoa4qSTTgLgpJNOctTcHLCQJEmSJEma0tjYGF/84hcBuOCCC3wilvrSt771LQC2bt3acpIDg4UkSZIkSdKU3v72t8+4LLXtyiuv5JprrgHgmmuusZg0BywkSZIkSZKmtGs00i4XXHBBS0mkqb3pTW/abfkNb3hDS0kOHBaSJEmSJEnSvLRt27YZl7X/WUiSJEmSJE3pkEMOmXFZatvRRx8947L2PwtJkiRJkqQpvf71r99tefJtRFLbXv3qV++2/JrXvKalJAcOC0mSJEmSpCmdeOKJd4xCOuSQQzjhhBNaTiTt7iEPeQiHHnooAIceeijLly9vOdHCZyFJkiRJkjSt17/+9QwMDDgaSX1pbGyM2267DYDbbruNHTt2tJxo4bOQJEmSJEma1oknnsh5553naCT1pdHR0RmXtf9ZSJIkSZIkSfPSpk2bGB8fB2B8fJyNGze2nGjhs5AkSZK0gCU5OckVSbYmeeUU2++d5N+SXJLksiR/2EZOSZLuipUrV7J48WIAFi9ezKpVq1pOtPBZSJIkSVqgkiwC3gUMA8cCz0ty7KRmLwUur6pHAk8A3pnkbnMaVJKku2hkZISJiQkAJiYmGBkZaTnRwmchSZIkaeE6EdhaVVdV1c+ADwKnTGpTwD2TBDgUuAnYObcxJUnSfGEhSZIkaeE6Arima3l7s67b3wEPA64FvgH8aVVNzE08SZL2zejoKAMDndLGwMCAk23PgZ4KSUk+28s6SZIk9ZVMsa4mLT8FuBh4AHA88HdJ7rXHgZLTklyY5MIbb7xxf+eUJOku2bRpEzt3dgbS7ty508m258DimTYmOQi4BzCU5L78vDNyLzqdDUmSJPWv7cCRXcvL6Iw86vaHwFuqqoCtSa4Gfgn4SnejqjoTOBNgxYoVk4tRkmbB2rVr2bp1a9sx2L59OwDLli1rOQksX76cNWvWtB1DfWTlypWsX7+e8fFxBgcHnWx7DuxtRNKLgYvodCYu6vr6JJ2JGyVJkjRHkjwwyZOb1wcnuededvkqcEySBzUTaJ8KnDOpzXeAJzXHPBx4KHDV/k0uaT679dZbufXWW9uOIU1pZGSEzjR/nVvbnGx79s04Iqmq/hb42ySrq2rdHGWSJEnSJEn+GDgNOAx4MJ3RRafTFIGmUlU7k7wMOBdYBJxVVZcleUmz/XTgjcDZSb5BZ/T5K6pqbFZ/GEk96ZeRN7tyrF27tuUk0p6GhoYYHh7mnHPOYXh4mCVLlrQdacGbsZC0S1WtS3IScHT3PlX1j7OUS5IkSbt7KZ2nsH0ZoKq2JLnf3naqqvXA+knrTu96fS3gfQCSpHlrZGSEbdu2ORppjvRUSEryT3Q++boYuL1ZXYCFJEmSpLlxW1X9bNfw/SSL2XPibEmSDjhDQ0OsW+dNVHOlp0ISsAI4tpmEUZIkSXPv80n+Cjg4yUrgT4B/azmTJOkA5oTwezoQJoTf22Tbu1wK/MJsBpEkSdKMXgncCHyDzgNR1gOvbjWRJEl9wAnh51avI5KGgMuTfAW4bdfKqnrGrKSSJEnSZAfTmSz7PQBJFjXrbmk1lSTpgNUvI2+cEH5u9VpIet1shpAkSdJefRZ4MnBzs3wwsBE4qbVEkiTpgNPrU9s+P9tBJEmSNKODqmpXEYmqujnJPdoMJEmSDjw9zZGU5MdJftR8/TTJ7Ul+NNvhJEmSdIefJHn0roUkJwBOCCFJkuZUryOS7tm9nOS3gBNnI5AkSZKm9HLgw0mubZbvDzy3vTiSJOlA1OscSbupqk8keeX+DiNJkqSpVdVXk/wS8FAgwH9V1XjLsSRJ0gGmp0JSkmd1LQ4AK4CalUSSJEm6Q5LfqKrPTeqPARyThKr6WCvBJEnSAanXEUlP73q9E9gGnLLf00iSJGmyxwOfY/f+2C4FWEiSJElzptc5kv5wtoNIkiRpT1X12iQDwIaq+lDbeSRJ0oGt16e2LUvy8SQ3JLk+yUeTLJvtcJIkSYKqmgBe1nYOSZKkngpJwD8A5wAPAI4A/q1ZJ0mSpLmxKclfJDkyyWG7vtoOJUmSDiy9zpG0tKq6C0dnJ3n5LOSRJEnS1P6IzpxIfzJp/S+2kEWSJB2geh2RNJbk95Msar5+H9gxm8EkSZK0m2OBdwGXABcD64CHtxlIkiQdeHotJP0R8DvA94DrgGcDTsAtSZI0d0aBhwFr6RSRHtaskyRJmjO93tr2RmCkqr4P0NyP/w46BSZJkiTNvodW1SO7lv8jySWtpZEkSQekXkckHberiARQVTcBj5qdSJIkSZrC15P8t10LSR4LfKHFPJIk6QDU64ikgST3nTQiqdd9JUmStO8eC/xBku80y0cB30zyDaCq6rj2okmSpANFr8WgdwIXJPkInaeF/A7w5llLJUmSpMlObjuAJElST4WkqvrHJBcCvwEEeFZVXT6rySRJknSHqvp22xkkSZJ6vj2tKRxZPJIkSZIkSTpA9TrZtiRJkiRJkg5wFpIkSZIkSZLUEwtJkiRJkiRJ6omFJEmSJEmSJPXEQpIkSZIkSZJ60vNT2yRJkqT9Ye3atWzdurXtGH1jy5YtAKxZs6blJP1h+fLlvheS1McsJEmSJGlObd26la9/43Im7nFY21H6Qn5WAFz0re+1nKR9A7fc1HYESdJezFohKclZwNOAG6rqEc26w4B/BY4GtgG/U1Xfb7b9JfBC4HZgTVWdO1vZJEmS1K6JexzGT499Wtsx1GcOuvxTbUeQJO3FbM6RdDZw8qR1rwQ+W1XHAJ9tlklyLHAq8PBmn3cnWTSL2SRJkiRJknQnzVohqarOByaPTT0FGG1ejwK/1bX+g1V1W1VdDWwFTpytbJIkSZIkSbrz5vqpbYdX1XUAzff7NeuPAK7pare9WbeHJKcluTDJhTfeeOOshpUkSZIkSdLPzXUhaTqZYl1N1bCqzqyqFVW1YunSpbMcS5IkSZIkSbvMdSHp+iT3B2i+39Cs3w4c2dVuGXDtHGeTJEmSJEnSDOa6kHQOMNK8HgE+2bX+1CR3T/Ig4BjgK3OcTZIkSZIkSTNYPFsHTvIB4AnAUJLtwGuBtwAfSvJC4DvAcwCq6rIkHwIuB3YCL62q22crmyRJkiRJku68WSskVdXzptn0pGnavxl482zlkSRJkiRJ0r7pl8m2JUmSJEmS1OcsJEmSJEmSJKknFpIkSZIkSZLUEwtJkiRJC1iSk5NckWRrkldO0+YJSS5OclmSz891RkmSNH/M2mTbkiRJaleSRcC7gJXAduCrSc6pqsu72twHeDdwclV9J8n9WgkrSZLmBUckSZIkLVwnAlur6qqq+hnwQeCUSW1+F/hYVX0HoKpumOOMkiRpHrGQJEmStHAdAVzTtby9WdftIcB9k5yX5KIkfzBn6SRJ0rzjrW2SJEkLV6ZYV5OWFwMnAE8CDga+mORLVXXlbgdKTgNOAzjqqKNmIaokSZoPHJEkSZK0cG0HjuxaXgZcO0Wbz1TVT6pqDDgfeOTkA1XVmVW1oqpWLF26dNYCS5Kk/mYhSZIkaeH6KnBMkgcluRtwKnDOpDafBH49yeIk9wAeC3xzjnNKkqR5wlvbJEmSFqiq2pnkZcC5wCLgrKq6LMlLmu2nV9U3k3wG2AxMAO+tqkvbSy1JkvqZhSRJkqQFrKrWA+snrTt90vLbgbfPZS5JkjQ/eWubJEmSJEmSemIhSZIkSZIkST2xkCRJkiRJkqSeWEiSJEmSJElSTywkSZIkSZIkqSc+tU2SJEmSuqxdu5atW7e2HaNvbNmyBYA1a9a0nKQ/LF++3PdCBzQLSZIkSZLUZevWrVx56dc46tDb247SF+423rmR5afbvtpykvZ95+ZFbUeQWmchSZIkSZImOerQ23n1ipvbjqE+86YLD207gtQ650iSJEmSJElSTywkSZIkSZIkqScWkiRJkiRJktQTC0mSJEmSJEnqiYUkSZIkSZIk9cRCkiRJkiRJknpiIUmSJEmSJEk9sZAkSZIkSZKknlhIkiRJkiRJUk8sJEmSJEmSJKkni9sOIEmSpAPL9u3bGbjlhxx0+afajqI+M3DLDrZv39l2DEnSDByRJEmSJEmSpJ44IkmSJElzatmyZVx/22J+euzT2o6iPnPQ5Z9i2bJfaDuGJGkGjkiSJEmSJElSTywkSZIkSZIkqScWkiRJkiRJktQT50iSJEmSJGkeWbt2LVu3bm07Rt/YsmULAGvWrGk5SX9Yvnz5rL4XFpIkSZIkSZpHtm7dytcv+zrcp+0kfWKi8+3r3/16uzn6wQ9m/xQWkiRJkiRJmm/uAxNPmGg7hfrMwHmzP4ORcyRJkiRJkiSpJxaSJEmSJEmS1BMLSZIkSZIkSeqJcyRJkiRJUpft27fzkx8v4k0XHtp2FPWZb/94EYds3952DKlVjkiSJEmSJElSTxyRJEmSJEldli1bxk93XserV9zcdhT1mTddeCgHLVvWdgypVY5IkiRJkiRJUk8sJEmSJEmSJKknFpIkSZIkSZLUEwtJkiRJkiRJ6omFJEmSJEmSJPXEQpIkSZIkSZJ6YiFJkiRJkiRJPbGQJEmSJEmSpJ5YSJIkSZIkSVJPLCRJkiRJkiSpJxaSJEmSFrAkJye5IsnWJK+cod1jktye5NlzmU+SJM0vFpIkSZIWqCSLgHcBw8CxwPOSHDtNu7cC585tQkmSNN9YSJIkSVq4TgS2VtVVVfUz4IPAKVO0Ww18FLhhLsNJkqT5x0KSJEnSwnUEcE3X8vZm3R2SHAE8Ezh9pgMlOS3JhUkuvPHGG/d7UEmSND+0UkhKsi3JN5JcnOTCZt1hSTYl2dJ8v28b2SRJkhaQTLGuJi3/X+AVVXX7TAeqqjOrakVVrVi6dOn+yidJkuaZxS2e+4lVNda1/Ergs1X1lmYiyFcCr2gnmiRJ0oKwHTiya3kZcO2kNiuADyYBGAKemmRnVX1iNoMN3HITB13+qdk8xbyRn/4IgDroXi0nad/ALTcBv9B2DEnSDNosJE12CvCE5vUocB4WkiRJkvbFV4FjkjwI+C5wKvC73Q2q6kG7Xic5G/jUbBeRli9fPpuHn3e2bPkxAMc82AIK/ELfXB/fuXkRb7rw0LZj9IXrb+ncyHL4PSZaTtK+79y8iIe0HUJqWVuFpAI2JingjKo6Ezi8qq4DqKrrktxvqh2TnAacBnDUUUfNVV5JkqR5p6p2JnkZnaexLQLOqqrLkryk2T7jvEizZc2aNW2ctm/tej/Wrl3bchLt0i/FrH7xsy1bADjo6GNaTtK+h+D1IbVVSPrVqrq2KRZtSvJfve7YFJ3OBFixYsXke/wlSZLUparWA+snrZuygFRVL5iLTFK/s9i5O4udkrq1Mtl2VV3bfL8B+DidR9Nen+T+AM13Hz8rSZIkSZLUR+a8kJTkkCT33PUaWAVcCpwDjDTNRoBPznU2SZIkSZIkTa+NW9sOBz7ePBlkMfD+qvpMkq8CH0ryQuA7wHNayCZJkiRJkqRpzHkhqaquAh45xfodwJPmOo8kSZIkSZJ608ocSZIkSZIkSZp/LCRJkiRJkiSpJxaSJEmSJEmS1BMLSZIkSZIkSepJG09tkyRJkiRJd9H27dvhhzBwnmNDNMkPYHttn9VTeNVJkiRJkiSpJ45IkiRJkiRpHlm2bBk35kYmnjDRdhT1mYHzBlh2xLLZPcesHl2SJEmSJEkLhoUkSZIkSZIk9cRCkiRJkiRJknpiIUmSJEmSJEk9sZAkSZIkSZKknlhIkiRJkiRJUk8sJEmSJEmSJKknFpIkSZIkSZLUEwtJkiRJkiRJ6omFJEmSJEmSJPXEQpIkSZIkSZJ6srjtAJIkSZIk6U76AQyc59gQAG5uvh/aaor+8APgiNk9hYUkSZIkSZLmkeXLl7cdoa9s2bIFgGOOOKblJH3giNm/PiwkSZIkSZI0j6xZs6btCH1l1/uxdu3alpMcGBwHJ0mSJEmSpJ5YSJIkSZIkSVJPLCRJkiRJkiSpJxaSJEmSJEmS1BMLSZIkSZIkSeqJhSRJkiRJkiT1xEKSJEmSJEmSemIhSZIkSZIkST2xkCRJkiRJkqSeWEiSJEmSJElSTywkSZIkSZIkqScWkiRJkiRJktQTC0mSJEmSJEnqiYUkSZIkSZIk9cRCkiRJkiRJknpiIUmSJEmSJEk9sZAkSZIkSZKknlhIkiRJWsCSnJzkiiRbk7xyiu2/l2Rz83VBkke2kVOSJM0PFpIkSZIWqCSLgHcBw8CxwPOSHDup2dXA46vqOOCNwJlzm1KSJM0nFpIkSZIWrhOBrVV1VVX9DPggcEp3g6q6oKq+3yx+CVg2xxklSdI8YiFJkiRp4ToCuKZreXuzbjovBDbMaiJJkjSvLW47gCRJkmZNplhXUzZMnkinkPRr02w/DTgN4Kijjtpf+SRJ0jzjiCRJkqSFaztwZNfyMuDayY2SHAe8FzilqnZMdaCqOrOqVlTViqVLl85KWEmS1P8sJEmSJC1cXwWOSfKgJHcDTgXO6W6Q5CjgY8Dzq+rKFjJKkqR5xFvbJEmSFqiq2pnkZcC5wCLgrKq6LMlLmu2nA68BlgDvTgKws6pWtJVZkiT1NwtJkiRJC1hVrQfWT1p3etfrFwEvmutckiRpfrKQJEmSpAPS2rVr2bp1a9sx2LJlCwBr1qxpNcfy5ctbz6DdeY3uyeu0v3iN7ulAuEYtJEmSJEktOvjgg9uOIM3Ia1T9zmt0bllIkiRJ0gFpoX9irPnPa1T9zmv0wORT2yRJkiRJktQTC0mSJEmSJEnqiYUkSZIkSZIk9cRCkiRJkiRJknpiIUmSJEmSJEk9sZAkSZIkSZKknlhIkiRJkiRJUk8sJEmSJEmSJKknFpIkSZIkSZLUk74rJCU5OckVSbYmeWXbeSRJkiRJktTRV4WkJIuAdwHDwLHA85Ic224qSZIkSZIkQZ8VkoATga1VdVVV/Qz4IHBKy5kkSZIkSZJE/xWSjgCu6Vre3qyTJEmSJElSy1JVbWe4Q5LnAE+pqhc1y88HTqyq1V1tTgNOaxYfClwx50EXtiFgrO0Q0gy8RtXvvEb3vwdW1dK2Q+jnktwIfLvtHAuMfzvU77xG1e+8Rvevaftfi+c6yV5sB47sWl4GXNvdoKrOBM6cy1AHkiQXVtWKtnNI0/EaVb/zGtWBwMLe/uffDvU7r1H1O6/RudNvt7Z9FTgmyYOS3A04FTin5UySJEmSJEmiz0YkVdXOJC8DzgUWAWdV1WUtx5IkSZIkSRJ9VkgCqKr1wPq2cxzAvG1Q/c5rVP3Oa1TSXeHfDvU7r1H1O6/ROdJXk21LkiRJkiSpf/XbHEmSJEmSJEnqUxaS5qEka5J8M8m/7IdjvSHJk2fYfnaSZ+/D8V+X5C/u6v5aeJJcMM36pUm+nOTrSX59P5znAUk+MsP2o5Ncuo/nuHlf9ld/SvKBJJuT/Nl+Ot76JPeZYfu2JEP7cPzzkviEEmkO2AfTfGYfTP3OPtj80XdzJKknfwIMV9XVe2uYJHRuYZyYantVvWZ/h5NmUlUnTbPpScB/VdVIr8dKsriqdk5znmuBu9wB14EpyS8AJ1XVA+/EPtNehwBV9dT9Ek5SP7APpnnLPpj6mX2w+cURSfNMktOBXwTOSfLD7k+aklzaVPiPbj4tezfwNeDXm+X3JLksycYkBzf73PFpV5K3JLm8qQK/o+u0j0tyQZKruj8ZS/I/k3y1af/6rvWvSnJFkn8HHjq774hmU5JDknw6ySXN9fXcJCck+XySi5Kcm+T+TdvzkvxNkvOb6+0xST6WZEuSN3Udc49PkJIcD7wNeGqSi5Mc3N0uybOTnN28PjvJXyf5D+CtzfLayddo96ddSR6e5CvNsTcnOaY59KJpfi8enOQzzc/4n0l+qVn/oCRfbK77N+7/d1z72+RPPZP8RfMp/XlJ3tpcF1d2fQK7Ebhfc638evcnTUmGkmxrXr8gyYeT/BuwsVn+WHPdbEnytq5zbmv23eP3qSvq6iRfS/KNruvtkCRnNdfb15Oc0qw/OMkHm2v5X4GDZ/M9lNQR+2CaQ1P9mxH7YPbB5pHYB1vQLCTNM1X1EuBa4InA38zQ9KHAP1bVo4BvA8cA76qqhwM/AH67u3GSw4BnAg+vquOAN3Vtvj/wa8DTgLc07Vc1xzwROB44IcnjkpwAnAo8CngW8Jh9+HHVvpOBa6vqkVX1COAzwDrg2VV1AnAW8Oau9j+rqscBpwOfBF4KPAJ4QZIl052kqi4GXgP8a1UdX1W37iXXQ4AnV9X/aJb3uEYneQnwt1V1PLAC2N6sn+734kxgdfMz/gXw7mb93wJ/X1WPAb63l4zqf4ur6kTg5cBrm3XPAL7VXIf/uZf9fwUYqarfaJaPB54L/DLw3CRHTmo/1e/TLmNV9Wjg7+lccwCvAj7XXG9PBN6e5BDgvwO3NH+r3wyccGd+aEl3jX0wzTH7YPbBFjL7YPOct7YtXN+uqi91LV/d/EMBcBFw9KT2PwJ+Crw3yaeBT3Vt+0QzLPvyJIc361Y1X19vlg+l8w/CPYGPV9UtAEnO2T8/jlryDeAdSd5K55r4Pp1OyaYkAIuA67ran9O132VVdR1AkquAI4Ed+ynXh6vq9q7lqa7Rbl8EXpVkGfCxqtrS5N/j9yLJocBJwIebNgB3b77/Kj/v6PwT8Nb99POoHR9rvk/1N7EXm6rqpq7lz1bVDwGSXA48ELima/tuv0+TOkndWZ7VvF4FPCM/H/VwEHAU8DhgLUBVbU6y+S5klzR77INpf7AP1mEfbGGyDzbPWUia33ay+6iyg7pe/2RS29u6Xt/OpGF4VbUzyYl07pE+FXgZ8BtT7Juu7/+nqs7oPk6SlwPV+4+gflZVVzafcD4V+D/AJjqdk1+ZZpdd18oEu183E0z6e5PkzcBvNuc5fqrTd70+aNK2ma7vTNpGVb0/yZeb852b5EXAVUz9ezEA/GCaTJNzqf/N9Hdy13//25n+38Pu/e/MdbjHMSf/PiXZWFVvmCFLgN+uqiu6j9N0rr0OpXbZB9Ossg82Ja/v+cU+2ALmrW3z2zbg0QBJHg086K4eqPkE4N5VtZ7OEMPj97LLucAfNfuR5Igk9wPOB57Z3D96T+DpdzWT2pfkAXSGb/4z8A7gscDSJL/SbB9M8vC7cuyqelUzdPX4aZpcn+RhSQboDPm/y5L8InBVVa2l84ndcTPk+hFwdZLnNPsmySObzV+g08kH+L19yaQ5cz2d++2XJLk7naH3d8Y2fj5seZ8mDp3i9+nRe9nlXDr37afZ/1HN+vNprr8kj2CG61nSrNmGfTDNIvtg9sEWAPtgC5gjkua3jwJ/kORi4KvAlftwrHsCn0xyEJ0K7IyPXKyqjUkeBnyx+f26Gfj9qvpaM/HYxXTmBdjb/a3qb79M557gCWCczn3BO4G1Se5N52/I/wUum4Vzv5LOUO5rgEvpDN2/q54L/H6ScTr31b8BuNcM7X8P+PskrwYGgQ8ClwB/Crw/yZ/S+f1Tn6uq8SRvAL4MXA381508xDuADyV5PvC5fYwz1e/TTN5I5/drc9OR2UanE/b3wD80w6kvBr6yj7kk3Xn2wTTb7IPZB5vX7IMtbKlyZJYkSZIkSZL2zlvbJEmSJEmS1BMLSZIkSZIkSeqJhSRJkiRJkiT1xEKSJEmSJEmSemIhSZIkSZIkST2xkCRpD0nWJPlmkn/ZD8d6Q5Inz7D97CTPnmL9A5J8ZF/PP+mYxyd56v5qJ0mStL/Y/7L/Jc0Xi9sOIKkv/QkwXFVX761hkgCpqomptlfVa+5KgKq6Ftijg7OPjgdWAOv3UztJkqT9xf6X/S9pXnBEkqTdJDkd+EXgnCQ/TPIXXdsuTXJ08/XNJO8Gvgb8erP8niSXJdmY5OBmnzs+8UryliSXJ9mc5B1dp31ckguSXNXV9ugklzavX5DkY0k+k2RLkrd1ZXphkiuTnNec/++a9c9p8l6S5PwkdwPeADw3ycVJnpvkxOa8X2++P3Sadq+b5n04JMmnm3NcmuS5s/IfRZIkLWj2v+x/SfOJI5Ik7aaqXpLkZOCJwMtmaPpQ4A+r6k+SHA0cAzyvqv44yYeA3wb+eVfjJIcBzwR+qaoqyX26jnV/4NeAXwLOAaYaUn088CjgNuCKJOuA24H/D3g08GPgc8AlTfvXAE+pqu8muU9V/SzJa4AVVfWyJtO9gMdV1c50hn//76r67SnavW6a9+Bk4Nqq+s2m3b1neL8kSZKmZP/L/pc0nzgiSdJd9e2q+lLX8tVVdXHz+iLg6EntfwT8FHhvkmcBt3Rt+0RVTVTV5cDh05zvs1X1w6r6KXA58EDgRODzVXVTVY0DH+5q/wXg7CR/DCya5pj3Bj7cfPL2N8DDp/9xp/QN4MlJ3prk16vqh3dyf0mSpDvD/pf9L6l1FpIkzWQnu/+dOKjr9U8mtb2t6/XtTBrxWFU76XQ8Pgr8FvCZafbNNFmmOv50bamqlwCvBo4ELk6yZIpmbwT+o6oeATyd3X++blO+D1V1JXACnQ7N/2k+SZMkSdoX9r867H9JfcpCkqSZbKMzbJkkjwYedFcPlORQ4N5VtR54OZ2h0vvqK8Djk9w3yWI6w7l3ne/BVfXlZrLJMTodmh8D9+za/97Ad5vXL+haP7ndNqZ4H5I8ALilqv4ZeMeuNpIkSftgG/a/wP6X1LcsJEmayUeBw5JcDPx34Mp9ONY9gU8l2Qx8HvizfQ1XVd8F/jfwZeDf6Qy53jW8+e1JvtEMmz6fzr37/wEcu2sSR+BtdD7J+gK7D7+e3G669+GXga80618FvGlffyZJknTAs/9l/0vqa6mqtjNI0l2W5NCqurn5ROzjwFlV9fG2c0mSJC1U9r+kA5sjkiTNd69rPpG6FLga+ESraSRJkhY++1/SAcwRSZIkSZIkSeqJI5IkSZIkSZLUEwtJkiRJkiRJ6omFJEmSJEmSJPXEQpIkSZIkSZJ6YiFJkiRJkiRJPbGQJEmSJEmSpJ78/0ql5gwrXUDHAAAAAElFTkSuQmCC\n",
      "text/plain": [
       "<Figure size 1440x432 with 2 Axes>"
      ]
     },
     "metadata": {
      "needs_background": "light"
     },
     "output_type": "display_data"
    }
   ],
   "source": [
    "plt.figure(figsize=(20,6))\n",
    "plt.subplot(1,2,1)\n",
    "plt.title('preference of ppl')\n",
    "sns.countplot(df.furnishingstatus)\n",
    "\n",
    "plt.subplot(1,2,2)\n",
    "plt.title('average price')\n",
    "sns.boxplot(x=df.furnishingstatus,y=df.price)\n",
    "\n",
    "plt.show\n",
    "\n",
    "#here as per plots we can see ppl tends to buy semi furnish apartment more and average price of semi and furnish apartment are almost same"
   ]
  },
  {
   "cell_type": "code",
   "execution_count": 30,
   "id": "23ff5b93",
   "metadata": {},
   "outputs": [
    {
     "data": {
      "text/plain": [
       "<matplotlib.collections.PathCollection at 0x139b9a34b80>"
      ]
     },
     "execution_count": 30,
     "metadata": {},
     "output_type": "execute_result"
    },
    {
     "data": {
      "image/png": "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\n",
      "text/plain": [
       "<Figure size 1440x432 with 1 Axes>"
      ]
     },
     "metadata": {
      "needs_background": "light"
     },
     "output_type": "display_data"
    }
   ],
   "source": [
    "plt.figure(figsize=(20,6))\n",
    "plt.subplot(1,2,1)\n",
    "plt.title(\"area vs price\")\n",
    "plt.scatter(x=df.area,y=df.price)"
   ]
  },
  {
   "cell_type": "code",
   "execution_count": 31,
   "id": "14351402",
   "metadata": {},
   "outputs": [
    {
     "name": "stderr",
     "output_type": "stream",
     "text": [
      "C:\\Users\\A\\.conda\\envs\\jupycourse\\lib\\site-packages\\seaborn\\_decorators.py:36: FutureWarning: Pass the following variable as a keyword arg: x. From version 0.12, the only valid positional argument will be `data`, and passing other arguments without an explicit keyword will result in an error or misinterpretation.\n",
      "  warnings.warn(\n",
      "C:\\Users\\A\\.conda\\envs\\jupycourse\\lib\\site-packages\\seaborn\\_decorators.py:36: FutureWarning: Pass the following variable as a keyword arg: x. From version 0.12, the only valid positional argument will be `data`, and passing other arguments without an explicit keyword will result in an error or misinterpretation.\n",
      "  warnings.warn(\n",
      "C:\\Users\\A\\.conda\\envs\\jupycourse\\lib\\site-packages\\seaborn\\_decorators.py:36: FutureWarning: Pass the following variable as a keyword arg: x. From version 0.12, the only valid positional argument will be `data`, and passing other arguments without an explicit keyword will result in an error or misinterpretation.\n",
      "  warnings.warn(\n",
      "C:\\Users\\A\\.conda\\envs\\jupycourse\\lib\\site-packages\\seaborn\\_decorators.py:36: FutureWarning: Pass the following variable as a keyword arg: x. From version 0.12, the only valid positional argument will be `data`, and passing other arguments without an explicit keyword will result in an error or misinterpretation.\n",
      "  warnings.warn(\n"
     ]
    },
    {
     "data": {
      "image/png": "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\n",
      "text/plain": [
       "<Figure size 1080x1440 with 2 Axes>"
      ]
     },
     "metadata": {
      "needs_background": "light"
     },
     "output_type": "display_data"
    },
    {
     "data": {
      "image/png": "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\n",
      "text/plain": [
       "<Figure size 1080x1440 with 2 Axes>"
      ]
     },
     "metadata": {
      "needs_background": "light"
     },
     "output_type": "display_data"
    },
    {
     "data": {
      "image/png": "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\n",
      "text/plain": [
       "<Figure size 1080x1440 with 2 Axes>"
      ]
     },
     "metadata": {
      "needs_background": "light"
     },
     "output_type": "display_data"
    },
    {
     "data": {
      "image/png": "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\n",
      "text/plain": [
       "<Figure size 1080x1440 with 2 Axes>"
      ]
     },
     "metadata": {
      "needs_background": "light"
     },
     "output_type": "display_data"
    }
   ],
   "source": [
    "def plot_counts(x,df,n):\n",
    "    plt.figure(figsize=(15,20))\n",
    "    plt.subplot(4,2,n)\n",
    "    plt.title(x+'')\n",
    "    sns.countplot(df[x])\n",
    "    \n",
    "    #plt.figure(figsize=(15,20))\n",
    "    plt.subplot(4,2,n+1)\n",
    "    plt.title(x+'price')\n",
    "    sns.boxplot(x=df[x],y=df.price)\n",
    "#plt.figure(figsize=(15,20))\n",
    "\n",
    "\n",
    "plot_counts('bedrooms',df,1)\n",
    "plot_counts('bathrooms',df,3)\n",
    "plot_counts('stories',df,5)\n",
    "plot_counts('parking',df,7)\n",
    "#here we can observe people are more ready to buy 3 bedroom,1 bathroom, 1 or 2 stories building,\n",
    "#not caring much about parking(almost 50% ppl prefer no parking )\n",
    "\n",
    "#average price is almost same for 4,5,6 bedrooms\n",
    "#price is heavily affected by stories "
   ]
  },
  {
   "cell_type": "code",
   "execution_count": 32,
   "id": "c8f44805",
   "metadata": {},
   "outputs": [
    {
     "name": "stderr",
     "output_type": "stream",
     "text": [
      "C:\\Users\\A\\.conda\\envs\\jupycourse\\lib\\site-packages\\seaborn\\_decorators.py:36: FutureWarning: Pass the following variable as a keyword arg: x. From version 0.12, the only valid positional argument will be `data`, and passing other arguments without an explicit keyword will result in an error or misinterpretation.\n",
      "  warnings.warn(\n",
      "C:\\Users\\A\\.conda\\envs\\jupycourse\\lib\\site-packages\\seaborn\\_decorators.py:36: FutureWarning: Pass the following variable as a keyword arg: x. From version 0.12, the only valid positional argument will be `data`, and passing other arguments without an explicit keyword will result in an error or misinterpretation.\n",
      "  warnings.warn(\n",
      "C:\\Users\\A\\.conda\\envs\\jupycourse\\lib\\site-packages\\seaborn\\_decorators.py:36: FutureWarning: Pass the following variable as a keyword arg: x. From version 0.12, the only valid positional argument will be `data`, and passing other arguments without an explicit keyword will result in an error or misinterpretation.\n",
      "  warnings.warn(\n",
      "C:\\Users\\A\\.conda\\envs\\jupycourse\\lib\\site-packages\\seaborn\\_decorators.py:36: FutureWarning: Pass the following variable as a keyword arg: x. From version 0.12, the only valid positional argument will be `data`, and passing other arguments without an explicit keyword will result in an error or misinterpretation.\n",
      "  warnings.warn(\n",
      "C:\\Users\\A\\.conda\\envs\\jupycourse\\lib\\site-packages\\seaborn\\_decorators.py:36: FutureWarning: Pass the following variable as a keyword arg: x. From version 0.12, the only valid positional argument will be `data`, and passing other arguments without an explicit keyword will result in an error or misinterpretation.\n",
      "  warnings.warn(\n"
     ]
    },
    {
     "data": {
      "image/png": "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\n",
      "text/plain": [
       "<Figure size 1080x1800 with 2 Axes>"
      ]
     },
     "metadata": {
      "needs_background": "light"
     },
     "output_type": "display_data"
    },
    {
     "data": {
      "image/png": "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\n",
      "text/plain": [
       "<Figure size 1080x1800 with 2 Axes>"
      ]
     },
     "metadata": {
      "needs_background": "light"
     },
     "output_type": "display_data"
    },
    {
     "data": {
      "image/png": "iVBORw0KGgoAAAANSUhEUgAAA3sAAAD/CAYAAABIBM+wAAAAOXRFWHRTb2Z0d2FyZQBNYXRwbG90bGliIHZlcnNpb24zLjUuMSwgaHR0cHM6Ly9tYXRwbG90bGliLm9yZy/YYfK9AAAACXBIWXMAAAsTAAALEwEAmpwYAAAq9UlEQVR4nO3de5heZX3v//cnCWIoKBACGwIh1MQDqFCNaLUqVZCgbWG3VdGq0dKy2wLS/dv12AOgYm1rD0C1NLWU0INsPKONEURBKyIE5SyW2YAQoBACHiI0mPD9/bHW6JNhZjIJM7Nmnnm/rmtdz7rvda+1vs8zk9zzfe611p2qQpIkSZLUX2Z1HYAkSZIkafyZ7EmSJElSHzLZkyRJkqQ+ZLInSZIkSX3IZE+SJEmS+pDJniRJkiT1IZM9aYZLcm6S93Udx3hLcmmS35qkc707yUcm41ySJEljZbI3AyS5PcnDSTYkuTfJPyXZud12aZL/brfdn+STSfbu2ffUJD9utw8u3+vZXkl+NHRbksOSPNrW/TDJd5K8ZUhcQ/fdkOTtPeetJK/uaT+nrVvUU3doklVJvpfkgSRXDp5nSAy9y89v5+c0bOKQ5MAkFyb5fvtev5zkhe22F/ec90dt/L2xLNxKHIPLPu22HZP8aZI72ja3JHlbkvTsP+rPdDxNVEI1lRPQ9vdqbW9dVb2/qiYlsZQkSRork72Z45eramfgOcDzgD/q2XZiu20xsDPwwSH7/t+q2rln2XXI9oNH2HZ3e9wnAf8b+IckTxtl352r6s97tj0AvCfJ7OHeUJu0fQm4rI19HvC7wFFDYxiyfH2447VG+5yGi+EpwNeA64EDgH2ATwEXJfn5qvrq4HmBg9rddu2J5Y7R4uhZ7m7rPwa8HHglsAvwRuB44Iwh+2/tZ9rXkszpOgZJkqSumezNMFV1F/B54JnDbPse8GngkHE+Z1XVKprk7dnbsOtq4BHgDSNs/wtgZVX9WVXd357n6qp6zeMMedTPaYhTga9X1R9W1QNV9cOqOhP4Z+DPHm8cvZK8HHgF8GtVdUNVbaqqK2g+nxOSLB7mfXyPsf1Md0vy7+3I5DfaJHbwvC9MclU7cnlVz6jl6cCLgb9tRxH/NslpSc5qt+/Qjmb+eVue24447taWP5bkv9rjfiXJQW398cBvAG9vj/vZtn6fJJ9Isi7JbUne2hPjqUk+nuRfkvwAeHO7af8kX2vf10VJ9ujZ5wVJLm9Hha9NcljPtrck+Xa7361J/ldb/zM0vxf79I66tuf/l7bNonYEd3k7Ant/kj/sOfbcJCuTPNie4+1DRwolSZLGg8neDJNkP5pRoW8Ns20e8KvAwDifc1aSXwH22MZjF/DHwClJdhhyzJ2Anwc+Pm6Bbnn8ET+nIY6gGW0b6gLgRW2c4+UI4BtVdWdvZVV9A1hLM+K3hW34mb4OOA3YrW17erv/7sC/A2fSjJz+FfDvSeZV1R8CX6UdRayqE2lGWQ9rj/k84L+Al7blnwe+U1UPtuXPA0uAPYFvAv/avp8V7fqft8f95SSzgM8C1wIL2vf6+0mO7HkPR9P8Puw6eCzg9cBb2nM8AfiD9n0taN/X+4Dd2/pPJJnf7ncf8Es0o9JvAf46yXOq6kc0I8e9I8aDo65D/QLwtDbWP0nyjLb+FGAR8LM0P9ORvsyQJEl6XEz2Zo5Pp7mf7j9o/iB/f8+2M5N8H7ifJiE7aci+r2lHPwaXLw/Z/s2ebWf21O/TnvNhmksb/7+qGpo8fXPIsXv/eKeqLgTWAUPvh9qN5vf3nq28732GHP977ejMSEb7nIazxwgx3NPGt9tW9h81jnb59FbONXi+PXrKW/uZDvXJqrqyqjbRJEqHtPWvAm6pqn9uRxI/CtwM/PIIx/k6sKRNMl8C/COwIM29jy+l+UwBqKpz2pHQjTQjpAcnefIIx30eML+q3lNVj1TVrcA/AMf2nruqPl1Vj1bVw23dP1XVf7blC3re1xuAVVW1qm1/MbCGJsGnqv69qv5fO1p8GXARzSjmtjitqh6uqmtpktSD2/rXAO+vqgerai1NIi1NiCTnJLkvyQ1jaPvXSa5pl/9Mz/3ZkqTpyWRv5jimqnatqv2r6vd6/hgGeGtVPZnmEsvdgH2H7HtBu+/g8otDtj+nZ9tbe+rvbu/hexLNH7QvGyau5ww59heGafNHwB8CT+ypexB4FNjag0fuHnL8XdvRmZGM9jkN5/4RYti7je/BYbaNxTE98R6zlXMNnu/+nvLWfqZD/VfP+kM09/lBcw/id4e0/S7N6NpjtJ/XGprE7iU0yd3lwIvoSfaSzE7ygST/r73s8vb2EHs85qCN/RmSuAPvBvbqaXPnMPuN9L72B1495Hi/QPv5JjkqyRVpHvrzPZokcKTYRjLaZ9ob63BxS+PlXGDZWBpW1f+uqkOq6hDgLOCTExiXJGkSmOzpJ6rqeprL2j6U/PTpjuNw3I3AO4BnJTlmO/a/mObSwt/rqXuIZhTp18YpzO31ReDVw9S/hmak6aFxPtfz20tMfyLJocB+NA+r2cI4/EzvpkmMei0E7ho8xTD7XEaT2P8ccFVbPhI4FPhK2+b1NJddHg48meayRoDBGIce907gtiFJ+y5V9cqeNsPFMpI7gX8ecryfqaoPJNkR+ATNQ232ar+wWDVKbNvqHrZMvvcbqaH0eFXVV2jul/6JJE9JsjrJ1Um+muTpw+z6OuCjkxKkJGnCmOxpqJU09zf9yngetKoeAf4S+JPtPMQfAm8fUvd24M1pph6YB5Dk4CTnb3+ko5qT5Ik9yw4097m9MMnpSXZPskuSk4A30SS446aqvghcQnNv2UHt6NgLaC67/LuqumWEXR/Pz3QV8NQkr08z9cVrgQOBz7Xb76W596zXZTTv/6b2534pzWW4t1XVurbNLsBGYD2wE4+9XHboca8EfpDkHe0DTmYneWaS523HewL4F+CXkxzZHuuJaaZU2Jfm3r4daS4f3pTkKJoH4/TGNm+US0635gLgXUl2a+8dPHE7jyNtrxXASVX1XJr7VT/cuzHJ/jRPF37MF0iSpOnFZE9baP84P5PmwSiDXpvHzlW353Yc/hxgYZLe+72uHXLcvxkhrq/R/MHfW3c5zQjSy4BbkzxA80fMqp5m+wwT+/aOBv4dzf2Hg8s/tQnWL9Dcj3U7zajNrwFHtjGPt18DvkzzpNINNEnLPzLKPXkj/EzHpKrW0zyo5P/QJGZvB36pqgYvGT0D+PU0T5YcvPfscmAuPx3Fuwn4754ywHk0l4Pe1W6/Ysip/xE4cPCexaraTHOf4CHAbTSXrH6EZlRwm7UPuTma5lLQdTQjfW8DZlXVD4G30iRlD9KMQl7Ys+/NNCMet7bx7bONp38PzQN1bqMZrf04TeIrTbj2/tkXAh9Lcg3w9zz28vBjgY+3/+4kSdNYqh7vFUmSpO2V5HeBY6vqpVttLG2HJIuAz1XVM5M8ieapuCPe75zkW8AJ7RdqkqRpzJE9SZpESfZO8qI0U5I8jWbU9FNdx6WZoap+ANyW5NUAaQw+KZb2d3I3mnuiJUnTnMmeJE2uJ9BcOvdDmnuiPsOQe6ak8ZLkozSJ29OSrE1yHPAbwHFJrgVupLmkedDrgPPLy34kqS94GackSZIk9SFH9iRJkiSpD5nsSZIkSVIfmtN1AI/HHnvsUYsWLeo6DEnSJLj66qvvr6r5XccxXdhHStLMMFr/OK2TvUWLFrFmzZquw5AkTYIk3+06hunEPlKSZobR+kcv45QkSZKkPmSyJ0mSJEl9yGRPkiRpnKxfv563vvWtrF+/vutQJMlkT5IkabysXLmS66+/nvPOO6/rUCTJZE+SJGk8rF+/ntWrV1NVrF692tE9SZ0z2ZMkSRoHK1eu5NFHHwVg8+bNju5J6pzJniRJ0jj44he/yKZNmwDYtGkTF198cccRSZrppvU8e+PpuW/z2zdNrKv/4k1dhyBJmkCHH344q1atYtOmTcyZM4cjjjii65AkzXCO7EmSJI2D5cuXM2tW86fV7NmzedOb/JJPUrdM9iRJksbBvHnzWLZsGUlYtmwZ8+bN6zokSTOcl3FKkiSNk+XLl3P77bc7qidpSpjQkb0ktye5Psk1Sda0dbsnuTjJLe3rbj3t35VkIMl3khw5kbFJkiSNt3nz5nHmmWc6qidpSpiMyzh/saoOqaqlbfmdwCVVtQS4pC2T5EDgWOAgYBnw4SSzJyE+SZIkSeo7XdyzdzSwsl1fCRzTU39+VW2sqtuAAeDQyQ9PkiRJkqa/iU72CrgoydVJjm/r9qqqewDa1z3b+gXAnT37rm3rtpDk+CRrkqxZt27dBIYuSZIkSdPXRD+g5UVVdXeSPYGLk9w8StsMU1ePqahaAawAWLp06WO2S5IkSZImeGSvqu5uX+8DPkVzWea9SfYGaF/va5uvBfbr2X1f4O6JjE+SJEmS+tWEJXtJfibJLoPrwCuAG4ALgeVts+XAZ9r1C4Fjk+yY5ABgCXDlRMUnSZIkSf1sIi/j3Av4VJLB8/xbVa1OchVwQZLjgDuAVwNU1Y1JLgBuAjYBJ1TV5gmMT5IkSZL61oSN7FXVrVV1cLscVFWnt/Xrq+rlVbWkfX2gZ5/Tq+opVfW0qvr8RMUmSZI0EdasWcPLXvYyrr766q5DkaROpl6QJEnqS6eeeiqPPvoop5xyStehSJLJniRJ0nhYs2YNGzZsAGDDhg2O7knqnMmeJEnSODj11FO3KDu6J6lrJnuSJHUoyTlJ7ktywwjbfyPJde1yeZKDJztGjc3gqN5IZUmabCZ7kiR161xg2SjbbwNeWlXPBt4LrJiMoLTtdt5551HLkjTZTPYkSepQVX0FeGCU7ZdX1YNt8Qpg30kJTNts6GWcp512WjeBSFLLZE+SpOnjOGDEqYmSHJ9kTZI169atm8SwBLB06dKfjObtvPPOPPe5z+04IkkzncmeJEnTQJJfpEn23jFSm6paUVVLq2rp/PnzJy84/cSpp57KrFmzHNWTNCXM6ToASZI0uiTPBj4CHFVV67uORyNbunQpX/rSl7oOQ5IAR/YkSZrSkiwEPgm8sar+s+t4JEnThyN7kiR1KMlHgcOAPZKsBU4BdgCoqrOBPwHmAR9OArCpqpZ2E60kaTox2ZMkqUNV9bqtbP8t4LcmKRw9TuvXr+e0007jlFNOYd68eV2HI2mG8zJOSZKkcbJy5Uquv/56zjvvvK5DkSSTPUmSpPGwfv16Vq9eTVWxevVq1q/3WTqSumWyJ0mSNA5WrlzJo48+CsDmzZsd3ZPUOZM9SZKkcfDFL36RTZs2AbBp0yYuvvjijiOSNNOZ7EmSJI2Dww8/nDlzmmffzZkzhyOOOKLjiCTNdCZ7kiRJ42D58uXMmtX8aTV79mze9KY3dRyRpJnOZE+SJGkczJs3j2XLlpGEZcuWOfWCpM45z54kSdI4Wb58ObfffrujepKmBEf2JEmSJKkPmexJkiSNEydVlzSVmOxJkiSNAydVlzTVmOxJkiSNAydVlzTVmOxJkiSNAydVlzTVmOxJkiSNAydVlzTVTHiyl2R2km8l+Vxb3j3JxUluaV9362n7riQDSb6T5MiJjk2SJGm8OKm6pKlmMkb2Tga+3VN+J3BJVS0BLmnLJDkQOBY4CFgGfDjJ7EmIT5Ik6XFzUnVJU82EJntJ9gVeBXykp/poYGW7vhI4pqf+/KraWFW3AQPAoRMZnyRJ0nhavnw5z3rWsxzVkzQlzJng4/8N8HZgl566varqHoCquifJnm39AuCKnnZr2zpJkqRpYd68eZx55pldhyFJwASO7CX5JeC+qrp6rLsMU1fDHPf4JGuSrFm3bt3jilGSJEmS+tVEXsb5IuBXktwOnA+8LMm/APcm2Rugfb2vbb8W2K9n/32Bu4cetKpWVNXSqlo6f/78CQxfkiRp2wwMDPCqV72KgYGBrkORpIlL9qrqXVW1b1Utonnwypeq6g3AhcDyttly4DPt+oXAsUl2THIAsAS4cqLikyRJGm/ve9/7+NGPfsT73ve+rkORpE7m2fsAcESSW4Aj2jJVdSNwAXATsBo4oao2dxCfJEmTJsk5Se5LcsMI25PkzHZqouuSPGeyY9TYDAwMcPvttwNw++23O7onqXOTkuxV1aVV9Uvt+vqqenlVLWlfH+hpd3pVPaWqnlZVn5+M2CRJ6ti5NFMOjeQomqtdlgDHA383CTFpOwwdzXN0T1LXuhjZkyRJrar6CvDAKE2OBs6rxhXAroP3vmtqGRzVG6ksSZPNZE+SpKltAXBnT9mpiaaoRYsWjVqWpMlmsidJ0tQ2pqmJwOmJunbiiSduUT7ppJM6ikSSGiZ7kiRNbWOamgicnqhrn/3sZ0ctS9JkM9mTJGlquxB4U/tUzhcA36+qe7oOSo912WWXbVG+9NJLuwlEklpzug5AkqSZLMlHgcOAPZKsBU4BdgCoqrOBVcArgQHgIeAt3UQqSZpuTPYkSepQVb1uK9sLOGGSwtHjsN9++3HnnXduUZbG01lnnTUl52+86667AFiwYOo9O2rx4sUz+v5ZL+OUJEkaB6eccsqoZalfPfzwwzz88MNdh6FhOLInSZI0DhYvXsw+++zD3XffzT777MPixYu7Dkl9ZqqOUJ188skAnHHGGR1HoqEc2ZMkSRonT33qU7d4laQumexJkiSNg/Xr1/O1r30NgMsvv5z169d3HJGkmc5kT5IkaRysXLmSTZs2AfDjH/+Y8847r+OIJM10JnuSJEnj4OKLL6Z5eCpUFRdddFHHEUma6Uz2JEmSxsFee+01almSJpvJniRJ0ji45557Ri1L0mQz2ZMkSRoHO+yww6hlSZpsJnuSJEnjYMOGDaOWJWmyOam6JEmads466ywGBga6DmMLO+64Ixs3btyiPDjZ9FSwePHiKTspt6SJ4cieJEnSOFi4cOEW5f3337+jSCSp4cieJEmadqbqCNWRRx7Jxo0bWbRoEStWrOg6HEkznCN7kiRJ42ThwoXMmjWLP/qjP+o6FEky2ZMkSRovO+20E8961rNYvHhx16FIksmeJEmSJPUjkz1JkiRJ6kMme5IkSZLUh0z2JEmSJKkPmexJkiRJUh+asGQvyROTXJnk2iQ3Jjmtrd89ycVJbmlfd+vZ511JBpJ8J8mRExWbJEmSJPW7MSV7SS4ZS90QG4GXVdXBwCHAsiQvAN4JXFJVS4BL2jJJDgSOBQ4ClgEfTjJ7jO9DkiRJktRj1GSvHZ3bHdgjyW7tqNzuSRYB+4y2bzU2tMUd2qWAo4GVbf1K4Jh2/Wjg/KraWFW3AQPAodvxniRJmjaSLGuvaBlI8s5htj85yWd7rpR5SxdxSpKmn62N7P0v4Grg6e3r4PIZ4ENbO3iS2UmuAe4DLq6qbwB7VdU9AO3rnm3zBcCdPbuvbeuGHvP4JGuSrFm3bt3WQpAkaVIl2T/J4e363CS7jNJ2Nk1/ehRwIPC69kqXXicAN7VXyhwG/GWSJ0xI8JKkvjJqsldVZ1TVAcAfVNXPVtUB7XJwVf3t1g5eVZur6hBgX+DQJM8cpXmGO8Qwx1xRVUuraun8+fO3FoIkSZMmyW8DHwf+vq3aF/j0KLscCgxU1a1V9QhwPs2VLr0K2CVJgJ2BB4BN4xm3JKk/zRlLo6o6K8kLgUW9+1TVeWPc/3tJLqW5F+/eJHtX1T1J9qYZ9YNmJG+/nt32Be4ey/ElSZoiTqBJ4L4BUFW3JNlzlPbDXdXy/CFt/ha4kKZP3AV4bVU9OtzBkhwPHA+wcOHC7YlfktRHxvqAln8GPgj8AvC8dlm6lX3mJ9m1XZ8LHA7cTNNhLW+bLae5JJS2/tgkOyY5AFgCXLktb0aSpI5tbEfoAEgyh2GuUukxlqtajgSuoblX/hDgb5M8abiDefWLJKnXmEb2aBK7A6tqtA5rqL2Ble39CLOAC6rqc0m+DlyQ5DjgDuDVAFV1Y5ILgJtoLk85oao2b8P5JEnq2mVJ3g3MTXIE8HvAZ0dpP5arWt4CfKDtgweS3EZzL71fiEqSRjXWZO8G4H8A94z1wFV1HfBzw9SvB14+wj6nA6eP9RySJE0x7wSOA66necjZKuAjo7S/CljSXtFyF80URK8f0uYOmn7zq0n2Ap4G3DrOcUuS+tBYk709gJuSXEkzfx4AVfUrExKVJEnT01zgnKr6B/jJ0zbnAg8N17iqNiU5EfgCMLvd98Ykv9NuPxt4L3BukutpLvt8R1XdP/FvRZI03Y012Tt1IoOQJKlPXEJzj/rgPLNzgYuAF460Q1WtohkB7K07u2f9buAV4x6pJKnvjfVpnJdNdCCSJPWBJ1bVYKJHVW1IslOXAUmSZq6xPo3zh0l+0C7/nWRzkh9MdHCSJE0zP0rynMFCkucCD3cYjyRpBhvryN4uveUkx9DMIyRJkn7q94GPJRl8oubewGu7C0eSNJON9Z69LVTVp5O8c7yDkSRpOquqq5I8neaJmQFurqofdxyWJGmGGlOyl+RXe4qzaObd25Y59yRJ6ltJXlZVXxrSX0IzrQJV9clOApMkzWhjHdn75Z71TcDtwNHjHo0kSdPTS4EvsWV/OagAkz1J0qQb6z17b5noQCRJmq6q6pQks4DPV9UFXccjSRKM/Wmc+yb5VJL7ktyb5BNJ9p3o4CRJmi6q6lHgxK7jkCRp0JiSPeCfgAuBfYAFwGfbOkmS9FMXJ/mDJPsl2X1w6TooSdLMNNZ79uZXVW9yd26S35+AeCRJms5+k+Yevd8bUv+zHcQiSZrhxjqyd3+SNySZ3S5vANZPZGCSJE1DBwIfAq4FrgHOAg7qMiBJ0sw11mTvN4HXAP8F3AP8OuBDWyRJ2tJK4BnAmTSJ3jPaOkmSJt1YL+N8L7C8qh4EaO8/+CBNEihJkhpPq6qDe8pfTnJtZ9FIkma0sY7sPXsw0QOoqgeAn5uYkCRJmra+leQFg4Ukzwe+1mE8kqQZbKwje7OS7DZkZG+s+0qSNFM8H3hTkjva8kLg20muB6qqnt1daJLG6qyzzmJgYKDrMKaNwc/q5JNP7jiS6WPx4sWcdNJJE36esSZsfwlcnuTjNE8Zew1w+oRFJUnS9LSs6wAkPX4DAwPccuO3WLjz5q5DmRae8OPmYsGN313TcSTTwx0bZk/aucaU7FXVeUnWAC8DAvxqVd00oZFJkjTNVNV3u45B0vhYuPNm3v2cH3QdhvrQ+7/5pEk715gvxWyTOxM8SZIkSZoGxvqAFkmSJEnSNGKyJ0mSJEl9yGRPkiRJkvqQyZ4kSZIk9SGTPUmSOpRkWZLvJBlI8s4R2hyW5JokNya5bLJjlCRNT06MLklSR5LMBj4EHAGsBa5KcmHv9EZJdgU+DCyrqjuS7NlJsJKkaWfCRvaS7Jfky0m+3X4TeXJbv3uSi5Pc0r7u1rPPu9pvNr+T5MiJik2SpCniUGCgqm6tqkeA84Gjh7R5PfDJqroDoKrum+QYJUnT1ERexrkJ+D9V9QzgBcAJSQ4E3glcUlVLgEvaMu22Y4GDgGXAh9tvPCVJ6lcLgDt7ymvbul5PBXZLcmmSq5O8aaSDJTk+yZoka9atWzcB4UqSppMJS/aq6p6q+ma7/kPg2zQd2NHAyrbZSuCYdv1o4Pyq2lhVtwEDNN94SpLUrzJMXQ0pzwGeC7wKOBL44yRPHe5gVbWiqpZW1dL58+ePb6SSpGlnUh7QkmQR8HPAN4C9quoeaBJCYPDeg7F8uylJUj9ZC+zXU94XuHuYNqur6kdVdT/wFeDgSYpPkjSNTXiyl2Rn4BPA71fVD0ZrOkzd0G83vURFktRPrgKWJDkgyRNobme4cEibzwAvTjInyU7A82mulpEkaVQT+jTOJDvQJHr/WlWfbKvvTbJ3Vd2TZG9g8EbzsXy7SVWtAFYALF269DHJoCRJ00VVbUpyIvAFYDZwTlXdmOR32u1nV9W3k6wGrgMeBT5SVTdMVoxnnXUWAwMDk3W6aW/wszr55JM7jmT6WLx4MSeddFLXYUh9acKSvSQB/hH4dlX9Vc+mC4HlwAfa18/01P9bkr8C9gGWAFdOVHySJE0FVbUKWDWk7uwh5b8A/mIy4xo0MDDANTd8m8077d7F6aedWY8030Nffeu9HUcyPcx+6IGuQ5D62kSO7L0IeCNwfZJr2rp30yR5FyQ5DrgDeDVA+03mBcBNNE/yPKGqNk9gfJIkaQw277Q7Dz/9lV2HoT409+ZVW28kabtNWLJXVf/B8PfhAbx8hH1OB06fqJgkSZIkaaaY0Hv2JEmSpOnmrrvu4kc/nM37v/mkrkNRH/ruD2fzM3fdNSnnmpSpFyRJkiRJk8uRPUmSJKnHggUL2LjpHt79nNFmDZO2z/u/+SR2XDA504k7sidJkiRJfchkT5IkSZL6kMmeJEmSJPUhkz1JkiRJ6kMme5IkSZLUh0z2JEmSJKkPmexJkiRJUh8y2ZMkSZKkPmSyJ0mSJEl9yGRPkiRJkvqQyZ4kSZIk9SGTPUmSJEnqQyZ7kiRJktSHTPYkSZIkqQ/N6ToASZI0dd11113Mfuj7zL15VdehqA/Nfmg9d921qeswpL7lyJ4kSZIk9SFH9iRJ6lCSZcAZwGzgI1X1gRHaPQ+4AnhtVX18suJbsGAB/7VxDg8//ZWTdUrNIHNvXsWCBXt1HYbUtxzZkySpI0lmAx8CjgIOBF6X5MAR2v0Z8IXJjVCSNJ2Z7EmS1J1DgYGqurWqHgHOB44ept1JwCeA+yYzOEnS9GayJ0lSdxYAd/aU17Z1P5FkAfA/gbMnMS5JUh8w2ZMkqTsZpq6GlP8GeEdVbd7qwZLjk6xJsmbdunXjEZ8kaRrzAS2SJHVnLbBfT3lf4O4hbZYC5ycB2AN4ZZJNVfXpoQerqhXACoClS5cOTRolSTOMyZ4kSd25CliS5ADgLuBY4PW9DarqgMH1JOcCnxsu0ZM0vu7YMJv3f/NJXYcxLdz7UHOx4F47PdpxJNPDHRtms2SSzmWyJ0lSR6pqU5ITaZ6yORs4p6puTPI77Xbv05M6sHjx4q5DmFYeGRgAYMf9/dzGYgmT9zs2YcleknOAXwLuq6pntnW7A/8XWATcDrymqh5st70LOA7YDLy1qny8tCSp71XVKmDVkLphk7yqevNkxCTNdCeddFLXIUwrJ598MgBnnHFGx5FoqIl8QMu5wLIhde8ELqmqJcAlbZl2TqFjgYPafT7czikkSZIkSdoOE5bsVdVXgAeGVB8NrGzXVwLH9NSfX1Ubq+o2YIBm7iFJkiRJ0naY7Hv29qqqewCq6p4ke7b1C4Areto9Zp6hQUmOB44HWLhw4QSGKkmSAGY/9ABzb1619YZi1n//AIBHn+iDPcZi9kMPAHt1HYbUt6bKA1rGMs9QU+ljpSVJmjQ+qGLbDAz8EIDFP2sCMzZ7+TsmTaDJTvbuTbJ3O6q3N3BfWz+WeYYkSdIk80EV28YHVUiaSibyAS3DuRBY3q4vBz7TU39skh3buYaWAFdOcmySJEmS1DcmcuqFjwKHAXskWQucAnwAuCDJccAdwKsB2jmFLgBuAjYBJ1TV5omKTZIkSZL63YQle1X1uhE2vXyE9qcDp09UPJIkSZI0k0z2ZZySJEmSpElgsidJkiRJfchkT5IkSZL6kMmeJEmSJPUhkz1JkiRJ6kMme5IkSZLUh0z2JEmSJKkPmexJkiRJUh8y2ZMkSZKkPmSyJ0mSJEl9yGRPkiRJkvqQyZ4kSZIk9aE5XQcgSZIkaevOOussBgYGug7jMQZjOvnkkzuO5LEWL17MSSed1HUYnTHZkyRJkrTd5s6d23UIGoHJniRJHUqyDDgDmA18pKo+MGT7bwDvaIsbgN+tqmsnN0pJU8FMHqHS9vGePUmSOpJkNvAh4CjgQOB1SQ4c0uw24KVV9WzgvcCKyY1SkjRdmexJktSdQ4GBqrq1qh4BzgeO7m1QVZdX1YNt8Qpg30mOUZI0TZnsSZLUnQXAnT3ltW3dSI4DPj/SxiTHJ1mTZM26devGKURJ0nRlsidJUncyTF0N2zD5RZpk7x3DbQeoqhVVtbSqls6fP3+cQpQkTVc+oEWSpO6sBfbrKe8L3D20UZJnAx8Bjqqq9ZMUmyRpmjPZkySpO1cBS5IcANwFHAu8vrdBkoXAJ4E3VtV/Tn6IU5PzjW27mT7fmDQTmexJM9wd73lW1yGojy38k+u7DmFKq6pNSU4EvkAz9cI5VXVjkt9pt58N/AkwD/hwEoBNVbW0q5g1OucbkzSVmOxJktShqloFrBpSd3bP+m8BvzXZcU11jlBJ0tb5gBZJkiRJ6kMme5IkSZLUh0z2JEmSJKkPTblkL8myJN9JMpDknV3HI0mSJEnT0ZRK9pLMBj4EHAUcCLwuyYHdRiVJkiRJ08+USvaAQ4GBqrq1qh4BzgeO7jgmSZIkSZp2plqytwC4s6e8tq2TJEmSJG2DqTbPXoapqy0aJMcDx7fFDUm+M+FRaTh7APd3HcR0kg8u7zoEjQ9/97fFKcP9t77d9h/Pg/W7q6+++v4k3+06jhnK/yc0E/l7350R+8epluytBfbrKe8L3N3boKpWACsmMyg9VpI1VbW06zikyebvvqaLqprfdQwzlf9PaCby935qmmqXcV4FLElyQJInAMcCF3YckyRJkiRNO1NqZK+qNiU5EfgCMBs4p6pu7DgsSZIkSZp2plSyB1BVq4BVXcehrfJSWs1U/u5L2hr/n9BM5O/9FJSq2norSZIkSdK0MtXu2ZMkSZIkjQOTPUmSJEnqQyZ7kiRJktSHTPa0VUkWJfl2kn9IcmOSi5LMTXJIkiuSXJfkU0l26zpW6fFI8t4kJ/eUT0/y1iRvS3JV+7t+WrvtZ5L8e5Jrk9yQ5LXdRS6pK/aRminsI6cnkz2N1RLgQ1V1EPA94NeA84B3VNWzgeuBU7oLTxoX/wgsB0gyi2auz3tpfv8PBQ4BnpvkJcAy4O6qOriqngms7iRiSVOBfaRmAvvIachkT2N1W1Vd065fDTwF2LWqLmvrVgIv6SIwabxU1e3A+iQ/B7wC+BbwvJ71bwJPp+nYrgcOT/JnSV5cVd/vJmpJU4B9pPqefeT0NOXm2dOUtbFnfTOwa0dxSBPtI8Cbgf8BnAO8HPjTqvr7oQ2TPBd4JfCnSS6qqvdMZqCSpgz7SM0U9pHTjCN72l7fBx5M8uK2/EbgslHaS9PFp2guP3ke8IV2+c0kOwMkWZBkzyT7AA9V1b8AHwSe01XAkqYc+0j1K/vIacaRPT0ey4Gzk+wE3Aq8peN4pMetqh5J8mXge1W1GbgoyTOArycB2AC8AVgM/EWSR4EfA7/bVcySpiT7SPUd+8jpJ1XVdQySNGW0N51/E3h1Vd3SdTySJE0V9pHTj5dxSlIryYHAAHCJnZgkST9lHzk9ObInSZIkSX3IkT1JkiRJ6kMme5IkSZLUh0z2JEmSJKkPmexJQyRZlOSGbWj/5nY+mcd73mPam5+3db9zk/z64z1/e6x3DylfPh7HlST1B/vILcr2kZryTPakx+/NwOPuyIBjgG3qyJKM91yZW3RkVfXCcT6+JGlmeTP2kVJnTPak4c1O8g9JbkxyUZK5SQ5JckWS65J8Kslu7beFS4F/TXJNkpcm+SRAkqOTPJzkCUmemOTWtv63k1yV5Nokn0iyU5IXAr9CMwHpNUme0i6rk1yd5KtJnt7uf26Sv2onNf2zNt6XJLk8ya2932AmeVt7ruuSnNZT/+n2uDcmOb6t+wAwtz3/v7Z1G9rXw5JcmuTjSW5O8q9pZ09N8sq27j+SnJnkcxP6k5Ekdc0+EvtITRNV5eLi0rMAi4BNwCFt+QLgDcB1wEvbuvcAf9OuXwosbdfnALe16x8ErgJeBLwU+GhbP6/nXO8DTmrXzwV+vWfbJcCSdv35wJd62n0OmN1T/hjNlzcHAgNt/SuAFUDabZ8DXtJu2719nQvcMBgTsGHIZ7GhfT0M+D6wb3usrwO/ADwRuBM4oG33UeBzXf8MXVxcXFwmZrGP3OKzsI90mfLLeA9vS/3itqq6pl2/GngKsGtVXdbWraTpPLZQVZuSDCR5BnAo8FfAS4DZwFfbZs9M8j5gV2Bn4AtDj5NkZ+CFwMfaLwcBduxp8rGq2txT/nRVPQrclGSvtu4V7fKttrwzsAT4CvDWJP+zrd+vrV8/4qfRuLKq1rbxXUPT4W8Abq2q29o2HwWO38pxJEnTm33kY9lHakoy2ZOGt7FnfTNNpzNWXwWOAn4MfJHmW8XZwB+0288Fjqmqa5O8meYbwaFmAd+rqkNGOMePRok3Pa9/WlV/39swyWHA4cDPV9VDSS6l+fZxa4Z+JnN6ziVJmjnsIx/LPlJTkvfsSWPzfeDBJC9uy28EBr/B/CGwS0/brwC/D3y9qtYB84CnAze223cB7kmyA/AbPfv95DhV9QPgtiSvBkjj4G2M+QvAb7bfgJJkQZI9gScDD7ad2NOBF/Ts8+M2rrG6GfjZJIva8mu3MUZJ0vRnHzk8+0h1zmRPGrvlNDeHXwccQnNPAjTfQp7d3rQ9F/gGsBdNhwbNfQzXVVW15T9u21xM0xEMOh94W5JvJXkKTSd3XJJraTrBo7cl2Kq6CPg34OtJrgc+TtNRrgbmtO/jvcAVPbutAK4bvPl8DOd4GPg9YHWS/wDupen0JUkzi33kY89hH6nO5af/tiRp2yXZuao2tE8e+xBwS1X9dddxSZLUNftIdc2RPUmP12+3N6PfSHP5y9+P3lySpBnDPlKdcmRPkiRJkvqQI3uSJEmS1IdM9iRJkiSpD5nsSZIkSVIfMtmTJEmSpD5ksidJkiRJfchkT5IkSZL60P8P2uyt2uOOKkoAAAAASUVORK5CYII=\n",
      "text/plain": [
       "<Figure size 1080x1800 with 2 Axes>"
      ]
     },
     "metadata": {
      "needs_background": "light"
     },
     "output_type": "display_data"
    },
    {
     "data": {
      "image/png": "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\n",
      "text/plain": [
       "<Figure size 1080x1800 with 2 Axes>"
      ]
     },
     "metadata": {
      "needs_background": "light"
     },
     "output_type": "display_data"
    },
    {
     "data": {
      "image/png": "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\n",
      "text/plain": [
       "<Figure size 1080x1800 with 2 Axes>"
      ]
     },
     "metadata": {
      "needs_background": "light"
     },
     "output_type": "display_data"
    }
   ],
   "source": [
    "def prefplot(x,df,n):\n",
    "    plt.figure(figsize=(15,25))\n",
    "    plt.subplot(6,2,n)\n",
    "    plt.title('PREFRENCE PLOT FOR' +' '+ x)\n",
    "    sns.countplot(df[x])\n",
    "    plt.subplot(6,2,n+1)\n",
    "    sns.boxplot(x=df[x],y=df.price)\n",
    "\n",
    "y=0    \n",
    "for i in yrn:\n",
    "    y=1\n",
    "    prefplot(i,df,y)\n",
    "    y=y+2\n",
    "#here we can observe most of people doesnt want above mentioned facility\n",
    "# though people more likely to buy house with air-conditioning , pref-area,basement"
   ]
  },
  {
   "cell_type": "code",
   "execution_count": 33,
   "id": "4b759e36",
   "metadata": {},
   "outputs": [],
   "source": [
    "from sklearn.preprocessing import MinMaxScaler\n",
    "scaler=MinMaxScaler()\n",
    "lst_scaler=['price','area']\n",
    "df_lr[lst_scaler]=scaler.fit_transform(df[lst_scaler])\n"
   ]
  },
  {
   "cell_type": "code",
   "execution_count": 34,
   "id": "1b7fd276",
   "metadata": {},
   "outputs": [],
   "source": [
    "from sklearn.model_selection import train_test_split\n",
    "df_train,df_test=train_test_split(df_lr,train_size=0.75,test_size=0.25,random_state=100)\n",
    "y_train=df_train.pop('price')\n",
    "x_train=df_train"
   ]
  },
  {
   "cell_type": "code",
   "execution_count": 35,
   "id": "4a825b5f",
   "metadata": {},
   "outputs": [
    {
     "data": {
      "text/plain": [
       "price              0\n",
       "area               0\n",
       "bedrooms           0\n",
       "bathrooms          0\n",
       "stories            0\n",
       "mainroad           0\n",
       "guestroom          0\n",
       "basement           0\n",
       "hotwaterheating    0\n",
       "airconditioning    0\n",
       "parking            0\n",
       "prefarea           0\n",
       "semi-furnished     0\n",
       "unfurnished        0\n",
       "dtype: int64"
      ]
     },
     "execution_count": 35,
     "metadata": {},
     "output_type": "execute_result"
    }
   ],
   "source": [
    "df_lr.isnull().sum()"
   ]
  },
  {
   "cell_type": "code",
   "execution_count": 36,
   "id": "caa189a7",
   "metadata": {},
   "outputs": [],
   "source": [
    "from sklearn.linear_model import LinearRegression\n",
    "from sklearn.feature_selection import RFE\n",
    "from statsmodels.stats.outliers_influence import variance_inflation_factor\n",
    "import statsmodels.api as sm"
   ]
  },
  {
   "cell_type": "code",
   "execution_count": 37,
   "id": "07cd7174",
   "metadata": {},
   "outputs": [
    {
     "data": {
      "text/plain": [
       "Index(['area', 'bedrooms', 'bathrooms', 'stories', 'mainroad', 'guestroom',\n",
       "       'basement', 'hotwaterheating', 'airconditioning', 'parking', 'prefarea',\n",
       "       'semi-furnished', 'unfurnished'],\n",
       "      dtype='object')"
      ]
     },
     "execution_count": 37,
     "metadata": {},
     "output_type": "execute_result"
    }
   ],
   "source": [
    "lr=LinearRegression()\n",
    "lr.fit(x_train,y_train)    \n",
    "rfe=RFE(lr,n_features_to_select=14)\n",
    "rfe=rfe.fit(x_train,y_train)\n",
    "x_train.columns[rfe.support_]"
   ]
  },
  {
   "cell_type": "code",
   "execution_count": 38,
   "id": "23937514",
   "metadata": {},
   "outputs": [
    {
     "data": {
      "text/plain": [
       "[('area', True, 1),\n",
       " ('bedrooms', True, 1),\n",
       " ('bathrooms', True, 1),\n",
       " ('stories', True, 1),\n",
       " ('mainroad', True, 1),\n",
       " ('guestroom', True, 1),\n",
       " ('basement', True, 1),\n",
       " ('hotwaterheating', True, 1),\n",
       " ('airconditioning', True, 1),\n",
       " ('parking', True, 1),\n",
       " ('prefarea', True, 1),\n",
       " ('semi-furnished', True, 1),\n",
       " ('unfurnished', True, 1)]"
      ]
     },
     "execution_count": 38,
     "metadata": {},
     "output_type": "execute_result"
    }
   ],
   "source": [
    "list(zip(x_train.columns,rfe.support_,rfe.ranking_))"
   ]
  },
  {
   "cell_type": "code",
   "execution_count": 39,
   "id": "f6ceb246",
   "metadata": {},
   "outputs": [],
   "source": [
    "def model(x,y):\n",
    "    x=sm.add_constant(x)\n",
    "    lm=sm.OLS(y,x).fit()\n",
    "    print(x.head())\n",
    "    print(lm.summary())\n",
    "    return x \n",
    "def vif(x):\n",
    "    vif=pd.DataFrame()\n",
    "    vif['features']=x.columns\n",
    "    vif['vif']=[variance_inflation_factor(x.values,i)for i in range(x.shape[1])]\n",
    "    vif=vif.sort_values(by='vif',ascending=False)\n",
    "    return vif"
   ]
  },
  {
   "cell_type": "code",
   "execution_count": 40,
   "id": "567653ab",
   "metadata": {},
   "outputs": [],
   "source": [
    "x_train_rfe=x_train[x_train.columns[rfe.support_]]"
   ]
  },
  {
   "cell_type": "code",
   "execution_count": 41,
   "id": "bd96a036",
   "metadata": {},
   "outputs": [
    {
     "data": {
      "text/html": [
       "<div>\n",
       "<style scoped>\n",
       "    .dataframe tbody tr th:only-of-type {\n",
       "        vertical-align: middle;\n",
       "    }\n",
       "\n",
       "    .dataframe tbody tr th {\n",
       "        vertical-align: top;\n",
       "    }\n",
       "\n",
       "    .dataframe thead th {\n",
       "        text-align: right;\n",
       "    }\n",
       "</style>\n",
       "<table border=\"1\" class=\"dataframe\">\n",
       "  <thead>\n",
       "    <tr style=\"text-align: right;\">\n",
       "      <th></th>\n",
       "      <th>area</th>\n",
       "      <th>bedrooms</th>\n",
       "      <th>bathrooms</th>\n",
       "      <th>stories</th>\n",
       "      <th>mainroad</th>\n",
       "      <th>guestroom</th>\n",
       "      <th>basement</th>\n",
       "      <th>hotwaterheating</th>\n",
       "      <th>airconditioning</th>\n",
       "      <th>parking</th>\n",
       "      <th>prefarea</th>\n",
       "      <th>semi-furnished</th>\n",
       "      <th>unfurnished</th>\n",
       "    </tr>\n",
       "  </thead>\n",
       "  <tbody>\n",
       "    <tr>\n",
       "      <th>333</th>\n",
       "      <td>0.092784</td>\n",
       "      <td>3</td>\n",
       "      <td>1</td>\n",
       "      <td>2</td>\n",
       "      <td>1</td>\n",
       "      <td>0</td>\n",
       "      <td>0</td>\n",
       "      <td>0</td>\n",
       "      <td>0</td>\n",
       "      <td>0</td>\n",
       "      <td>0</td>\n",
       "      <td>1</td>\n",
       "      <td>0</td>\n",
       "    </tr>\n",
       "    <tr>\n",
       "      <th>429</th>\n",
       "      <td>0.214777</td>\n",
       "      <td>4</td>\n",
       "      <td>1</td>\n",
       "      <td>2</td>\n",
       "      <td>1</td>\n",
       "      <td>0</td>\n",
       "      <td>0</td>\n",
       "      <td>0</td>\n",
       "      <td>0</td>\n",
       "      <td>0</td>\n",
       "      <td>0</td>\n",
       "      <td>0</td>\n",
       "      <td>1</td>\n",
       "    </tr>\n",
       "    <tr>\n",
       "      <th>18</th>\n",
       "      <td>0.202749</td>\n",
       "      <td>3</td>\n",
       "      <td>2</td>\n",
       "      <td>2</td>\n",
       "      <td>1</td>\n",
       "      <td>1</td>\n",
       "      <td>0</td>\n",
       "      <td>0</td>\n",
       "      <td>1</td>\n",
       "      <td>2</td>\n",
       "      <td>0</td>\n",
       "      <td>0</td>\n",
       "      <td>0</td>\n",
       "    </tr>\n",
       "    <tr>\n",
       "      <th>480</th>\n",
       "      <td>0.125773</td>\n",
       "      <td>3</td>\n",
       "      <td>1</td>\n",
       "      <td>2</td>\n",
       "      <td>0</td>\n",
       "      <td>0</td>\n",
       "      <td>0</td>\n",
       "      <td>0</td>\n",
       "      <td>0</td>\n",
       "      <td>1</td>\n",
       "      <td>0</td>\n",
       "      <td>1</td>\n",
       "      <td>0</td>\n",
       "    </tr>\n",
       "    <tr>\n",
       "      <th>505</th>\n",
       "      <td>0.161512</td>\n",
       "      <td>3</td>\n",
       "      <td>1</td>\n",
       "      <td>2</td>\n",
       "      <td>1</td>\n",
       "      <td>0</td>\n",
       "      <td>0</td>\n",
       "      <td>0</td>\n",
       "      <td>1</td>\n",
       "      <td>0</td>\n",
       "      <td>0</td>\n",
       "      <td>0</td>\n",
       "      <td>1</td>\n",
       "    </tr>\n",
       "    <tr>\n",
       "      <th>...</th>\n",
       "      <td>...</td>\n",
       "      <td>...</td>\n",
       "      <td>...</td>\n",
       "      <td>...</td>\n",
       "      <td>...</td>\n",
       "      <td>...</td>\n",
       "      <td>...</td>\n",
       "      <td>...</td>\n",
       "      <td>...</td>\n",
       "      <td>...</td>\n",
       "      <td>...</td>\n",
       "      <td>...</td>\n",
       "      <td>...</td>\n",
       "    </tr>\n",
       "    <tr>\n",
       "      <th>526</th>\n",
       "      <td>0.105155</td>\n",
       "      <td>2</td>\n",
       "      <td>1</td>\n",
       "      <td>1</td>\n",
       "      <td>1</td>\n",
       "      <td>0</td>\n",
       "      <td>0</td>\n",
       "      <td>0</td>\n",
       "      <td>0</td>\n",
       "      <td>0</td>\n",
       "      <td>0</td>\n",
       "      <td>0</td>\n",
       "      <td>1</td>\n",
       "    </tr>\n",
       "    <tr>\n",
       "      <th>53</th>\n",
       "      <td>0.240550</td>\n",
       "      <td>3</td>\n",
       "      <td>2</td>\n",
       "      <td>4</td>\n",
       "      <td>1</td>\n",
       "      <td>0</td>\n",
       "      <td>0</td>\n",
       "      <td>0</td>\n",
       "      <td>1</td>\n",
       "      <td>2</td>\n",
       "      <td>0</td>\n",
       "      <td>1</td>\n",
       "      <td>0</td>\n",
       "    </tr>\n",
       "    <tr>\n",
       "      <th>350</th>\n",
       "      <td>0.121649</td>\n",
       "      <td>2</td>\n",
       "      <td>1</td>\n",
       "      <td>2</td>\n",
       "      <td>1</td>\n",
       "      <td>0</td>\n",
       "      <td>0</td>\n",
       "      <td>1</td>\n",
       "      <td>0</td>\n",
       "      <td>1</td>\n",
       "      <td>0</td>\n",
       "      <td>1</td>\n",
       "      <td>0</td>\n",
       "    </tr>\n",
       "    <tr>\n",
       "      <th>79</th>\n",
       "      <td>0.298969</td>\n",
       "      <td>3</td>\n",
       "      <td>2</td>\n",
       "      <td>3</td>\n",
       "      <td>1</td>\n",
       "      <td>1</td>\n",
       "      <td>0</td>\n",
       "      <td>0</td>\n",
       "      <td>1</td>\n",
       "      <td>0</td>\n",
       "      <td>0</td>\n",
       "      <td>0</td>\n",
       "      <td>0</td>\n",
       "    </tr>\n",
       "    <tr>\n",
       "      <th>520</th>\n",
       "      <td>0.415808</td>\n",
       "      <td>2</td>\n",
       "      <td>1</td>\n",
       "      <td>1</td>\n",
       "      <td>1</td>\n",
       "      <td>0</td>\n",
       "      <td>0</td>\n",
       "      <td>0</td>\n",
       "      <td>0</td>\n",
       "      <td>0</td>\n",
       "      <td>0</td>\n",
       "      <td>0</td>\n",
       "      <td>1</td>\n",
       "    </tr>\n",
       "  </tbody>\n",
       "</table>\n",
       "<p>408 rows × 13 columns</p>\n",
       "</div>"
      ],
      "text/plain": [
       "         area  bedrooms  bathrooms  stories  mainroad  guestroom  basement  \\\n",
       "333  0.092784         3          1        2         1          0         0   \n",
       "429  0.214777         4          1        2         1          0         0   \n",
       "18   0.202749         3          2        2         1          1         0   \n",
       "480  0.125773         3          1        2         0          0         0   \n",
       "505  0.161512         3          1        2         1          0         0   \n",
       "..        ...       ...        ...      ...       ...        ...       ...   \n",
       "526  0.105155         2          1        1         1          0         0   \n",
       "53   0.240550         3          2        4         1          0         0   \n",
       "350  0.121649         2          1        2         1          0         0   \n",
       "79   0.298969         3          2        3         1          1         0   \n",
       "520  0.415808         2          1        1         1          0         0   \n",
       "\n",
       "     hotwaterheating  airconditioning  parking  prefarea  semi-furnished  \\\n",
       "333                0                0        0         0               1   \n",
       "429                0                0        0         0               0   \n",
       "18                 0                1        2         0               0   \n",
       "480                0                0        1         0               1   \n",
       "505                0                1        0         0               0   \n",
       "..               ...              ...      ...       ...             ...   \n",
       "526                0                0        0         0               0   \n",
       "53                 0                1        2         0               1   \n",
       "350                1                0        1         0               1   \n",
       "79                 0                1        0         0               0   \n",
       "520                0                0        0         0               0   \n",
       "\n",
       "     unfurnished  \n",
       "333            0  \n",
       "429            1  \n",
       "18             0  \n",
       "480            0  \n",
       "505            1  \n",
       "..           ...  \n",
       "526            1  \n",
       "53             0  \n",
       "350            0  \n",
       "79             0  \n",
       "520            1  \n",
       "\n",
       "[408 rows x 13 columns]"
      ]
     },
     "execution_count": 41,
     "metadata": {},
     "output_type": "execute_result"
    }
   ],
   "source": [
    "x_train_rfe"
   ]
  },
  {
   "cell_type": "code",
   "execution_count": 42,
   "id": "d2c26c24",
   "metadata": {},
   "outputs": [
    {
     "name": "stdout",
     "output_type": "stream",
     "text": [
      "     const      area  bedrooms  bathrooms  stories  mainroad  guestroom  \\\n",
      "333    1.0  0.092784         3          1        2         1          0   \n",
      "429    1.0  0.214777         4          1        2         1          0   \n",
      "18     1.0  0.202749         3          2        2         1          1   \n",
      "480    1.0  0.125773         3          1        2         0          0   \n",
      "505    1.0  0.161512         3          1        2         1          0   \n",
      "\n",
      "     basement  hotwaterheating  airconditioning  parking  prefarea  \\\n",
      "333         0                0                0        0         0   \n",
      "429         0                0                0        0         0   \n",
      "18          0                0                1        2         0   \n",
      "480         0                0                0        1         0   \n",
      "505         0                0                1        0         0   \n",
      "\n",
      "     semi-furnished  unfurnished  \n",
      "333               1            0  \n",
      "429               0            1  \n",
      "18                0            0  \n",
      "480               1            0  \n",
      "505               0            1  \n",
      "                            OLS Regression Results                            \n",
      "==============================================================================\n",
      "Dep. Variable:                  price   R-squared:                       0.666\n",
      "Model:                            OLS   Adj. R-squared:                  0.655\n",
      "Method:                 Least Squares   F-statistic:                     60.49\n",
      "Date:                Wed, 15 Jun 2022   Prob (F-statistic):           2.29e-85\n",
      "Time:                        18:02:48   Log-Likelihood:                 400.76\n",
      "No. Observations:                 408   AIC:                            -773.5\n",
      "Df Residuals:                     394   BIC:                            -717.4\n",
      "Df Model:                          13                                         \n",
      "Covariance Type:            nonrobust                                         \n",
      "===================================================================================\n",
      "                      coef    std err          t      P>|t|      [0.025      0.975]\n",
      "-----------------------------------------------------------------------------------\n",
      "const              -0.1172      0.026     -4.525      0.000      -0.168      -0.066\n",
      "area                0.2886      0.037      7.848      0.000       0.216       0.361\n",
      "bedrooms            0.0085      0.007      1.159      0.247      -0.006       0.023\n",
      "bathrooms           0.0971      0.011      8.903      0.000       0.076       0.119\n",
      "stories             0.0345      0.006      5.461      0.000       0.022       0.047\n",
      "mainroad            0.0499      0.014      3.484      0.001       0.022       0.078\n",
      "guestroom           0.0298      0.013      2.222      0.027       0.003       0.056\n",
      "basement            0.0206      0.011      1.868      0.063      -0.001       0.042\n",
      "hotwaterheating     0.0711      0.021      3.427      0.001       0.030       0.112\n",
      "airconditioning     0.0731      0.011      6.626      0.000       0.051       0.095\n",
      "parking             0.0209      0.006      3.512      0.000       0.009       0.033\n",
      "prefarea            0.0574      0.011      5.031      0.000       0.035       0.080\n",
      "semi-furnished     -0.0056      0.012     -0.476      0.634      -0.029       0.017\n",
      "unfurnished        -0.0336      0.013     -2.660      0.008      -0.058      -0.009\n",
      "==============================================================================\n",
      "Omnibus:                       86.788   Durbin-Watson:                   2.062\n",
      "Prob(Omnibus):                  0.000   Jarque-Bera (JB):              255.666\n",
      "Skew:                           0.982   Prob(JB):                     3.04e-56\n",
      "Kurtosis:                       6.344   Cond. No.                         34.1\n",
      "==============================================================================\n",
      "\n",
      "Notes:\n",
      "[1] Standard Errors assume that the covariance matrix of the errors is correctly specified.\n"
     ]
    }
   ],
   "source": [
    "x_train_new=model(x_train_rfe,y_train)"
   ]
  },
  {
   "cell_type": "code",
   "execution_count": 43,
   "id": "72a7bc0a",
   "metadata": {},
   "outputs": [],
   "source": [
    "x_train_new = x_train_rfe.drop(['bedrooms'],axis=1)"
   ]
  },
  {
   "cell_type": "code",
   "execution_count": 44,
   "id": "6e1511e8",
   "metadata": {},
   "outputs": [
    {
     "name": "stdout",
     "output_type": "stream",
     "text": [
      "     const      area  bathrooms  stories  mainroad  guestroom  basement  \\\n",
      "333    1.0  0.092784          1        2         1          0         0   \n",
      "429    1.0  0.214777          1        2         1          0         0   \n",
      "18     1.0  0.202749          2        2         1          1         0   \n",
      "480    1.0  0.125773          1        2         0          0         0   \n",
      "505    1.0  0.161512          1        2         1          0         0   \n",
      "\n",
      "     hotwaterheating  airconditioning  parking  prefarea  semi-furnished  \\\n",
      "333                0                0        0         0               1   \n",
      "429                0                0        0         0               0   \n",
      "18                 0                1        2         0               0   \n",
      "480                0                0        1         0               1   \n",
      "505                0                1        0         0               0   \n",
      "\n",
      "     unfurnished  \n",
      "333            0  \n",
      "429            1  \n",
      "18             0  \n",
      "480            0  \n",
      "505            1  \n",
      "                            OLS Regression Results                            \n",
      "==============================================================================\n",
      "Dep. Variable:                  price   R-squared:                       0.665\n",
      "Model:                            OLS   Adj. R-squared:                  0.655\n",
      "Method:                 Least Squares   F-statistic:                     65.36\n",
      "Date:                Wed, 15 Jun 2022   Prob (F-statistic):           5.35e-86\n",
      "Time:                        18:02:48   Log-Likelihood:                 400.07\n",
      "No. Observations:                 408   AIC:                            -774.1\n",
      "Df Residuals:                     395   BIC:                            -722.0\n",
      "Df Model:                          12                                         \n",
      "Covariance Type:            nonrobust                                         \n",
      "===================================================================================\n",
      "                      coef    std err          t      P>|t|      [0.025      0.975]\n",
      "-----------------------------------------------------------------------------------\n",
      "const              -0.1005      0.022     -4.667      0.000      -0.143      -0.058\n",
      "area                0.2897      0.037      7.878      0.000       0.217       0.362\n",
      "bathrooms           0.0998      0.011      9.355      0.000       0.079       0.121\n",
      "stories             0.0372      0.006      6.329      0.000       0.026       0.049\n",
      "mainroad            0.0485      0.014      3.396      0.001       0.020       0.077\n",
      "guestroom           0.0295      0.013      2.203      0.028       0.003       0.056\n",
      "basement            0.0226      0.011      2.079      0.038       0.001       0.044\n",
      "hotwaterheating     0.0718      0.021      3.465      0.001       0.031       0.113\n",
      "airconditioning     0.0727      0.011      6.592      0.000       0.051       0.094\n",
      "parking             0.0215      0.006      3.627      0.000       0.010       0.033\n",
      "prefarea            0.0573      0.011      5.019      0.000       0.035       0.080\n",
      "semi-furnished     -0.0056      0.012     -0.481      0.631      -0.029       0.017\n",
      "unfurnished        -0.0343      0.013     -2.713      0.007      -0.059      -0.009\n",
      "==============================================================================\n",
      "Omnibus:                       90.387   Durbin-Watson:                   2.063\n",
      "Prob(Omnibus):                  0.000   Jarque-Bera (JB):              271.627\n",
      "Skew:                           1.016   Prob(JB):                     1.04e-59\n",
      "Kurtosis:                       6.442   Cond. No.                         23.8\n",
      "==============================================================================\n",
      "\n",
      "Notes:\n",
      "[1] Standard Errors assume that the covariance matrix of the errors is correctly specified.\n"
     ]
    }
   ],
   "source": [
    "x_train_new=model(x_train_new,y_train)\n"
   ]
  },
  {
   "cell_type": "code",
   "execution_count": 45,
   "id": "9345477a",
   "metadata": {},
   "outputs": [],
   "source": [
    "x_train_new=x_train_new.drop(['semi-furnished'],axis=1)"
   ]
  },
  {
   "cell_type": "code",
   "execution_count": 46,
   "id": "4622ddf1",
   "metadata": {},
   "outputs": [
    {
     "name": "stdout",
     "output_type": "stream",
     "text": [
      "     const      area  bathrooms  stories  mainroad  guestroom  basement  \\\n",
      "333    1.0  0.092784          1        2         1          0         0   \n",
      "429    1.0  0.214777          1        2         1          0         0   \n",
      "18     1.0  0.202749          2        2         1          1         0   \n",
      "480    1.0  0.125773          1        2         0          0         0   \n",
      "505    1.0  0.161512          1        2         1          0         0   \n",
      "\n",
      "     hotwaterheating  airconditioning  parking  prefarea  unfurnished  \n",
      "333                0                0        0         0            0  \n",
      "429                0                0        0         0            1  \n",
      "18                 0                1        2         0            0  \n",
      "480                0                0        1         0            0  \n",
      "505                0                1        0         0            1  \n",
      "                            OLS Regression Results                            \n",
      "==============================================================================\n",
      "Dep. Variable:                  price   R-squared:                       0.665\n",
      "Model:                            OLS   Adj. R-squared:                  0.656\n",
      "Method:                 Least Squares   F-statistic:                     71.42\n",
      "Date:                Wed, 15 Jun 2022   Prob (F-statistic):           6.92e-87\n",
      "Time:                        18:02:49   Log-Likelihood:                 399.95\n",
      "No. Observations:                 408   AIC:                            -775.9\n",
      "Df Residuals:                     396   BIC:                            -727.8\n",
      "Df Model:                          11                                         \n",
      "Covariance Type:            nonrobust                                         \n",
      "===================================================================================\n",
      "                      coef    std err          t      P>|t|      [0.025      0.975]\n",
      "-----------------------------------------------------------------------------------\n",
      "const              -0.1049      0.020     -5.379      0.000      -0.143      -0.067\n",
      "area                0.2914      0.037      7.966      0.000       0.219       0.363\n",
      "bathrooms           0.0997      0.011      9.359      0.000       0.079       0.121\n",
      "stories             0.0373      0.006      6.352      0.000       0.026       0.049\n",
      "mainroad            0.0487      0.014      3.418      0.001       0.021       0.077\n",
      "guestroom           0.0294      0.013      2.195      0.029       0.003       0.056\n",
      "basement            0.0225      0.011      2.075      0.039       0.001       0.044\n",
      "hotwaterheating     0.0715      0.021      3.456      0.001       0.031       0.112\n",
      "airconditioning     0.0733      0.011      6.677      0.000       0.052       0.095\n",
      "parking             0.0215      0.006      3.633      0.000       0.010       0.033\n",
      "prefarea            0.0573      0.011      5.032      0.000       0.035       0.080\n",
      "unfurnished        -0.0306      0.010     -3.050      0.002      -0.050      -0.011\n",
      "==============================================================================\n",
      "Omnibus:                       91.179   Durbin-Watson:                   2.064\n",
      "Prob(Omnibus):                  0.000   Jarque-Bera (JB):              277.636\n",
      "Skew:                           1.020   Prob(JB):                     5.15e-61\n",
      "Kurtosis:                       6.488   Cond. No.                         23.3\n",
      "==============================================================================\n",
      "\n",
      "Notes:\n",
      "[1] Standard Errors assume that the covariance matrix of the errors is correctly specified.\n"
     ]
    }
   ],
   "source": [
    "x_train_new=model(x_train_new,y_train)"
   ]
  },
  {
   "cell_type": "code",
   "execution_count": null,
   "id": "6f38c037",
   "metadata": {},
   "outputs": [],
   "source": []
  },
  {
   "cell_type": "code",
   "execution_count": 47,
   "id": "0f69218c",
   "metadata": {},
   "outputs": [
    {
     "name": "stdout",
     "output_type": "stream",
     "text": [
      "     const      area  bathrooms  stories  mainroad  guestroom  basement  \\\n",
      "333    1.0  0.092784          1        2         1          0         0   \n",
      "429    1.0  0.214777          1        2         1          0         0   \n",
      "18     1.0  0.202749          2        2         1          1         0   \n",
      "480    1.0  0.125773          1        2         0          0         0   \n",
      "505    1.0  0.161512          1        2         1          0         0   \n",
      "\n",
      "     hotwaterheating  airconditioning  parking  prefarea  unfurnished  \n",
      "333                0                0        0         0            0  \n",
      "429                0                0        0         0            1  \n",
      "18                 0                1        2         0            0  \n",
      "480                0                0        1         0            0  \n",
      "505                0                1        0         0            1  \n",
      "                            OLS Regression Results                            \n",
      "==============================================================================\n",
      "Dep. Variable:                  price   R-squared:                       0.665\n",
      "Model:                            OLS   Adj. R-squared:                  0.656\n",
      "Method:                 Least Squares   F-statistic:                     71.42\n",
      "Date:                Wed, 15 Jun 2022   Prob (F-statistic):           6.92e-87\n",
      "Time:                        18:02:49   Log-Likelihood:                 399.95\n",
      "No. Observations:                 408   AIC:                            -775.9\n",
      "Df Residuals:                     396   BIC:                            -727.8\n",
      "Df Model:                          11                                         \n",
      "Covariance Type:            nonrobust                                         \n",
      "===================================================================================\n",
      "                      coef    std err          t      P>|t|      [0.025      0.975]\n",
      "-----------------------------------------------------------------------------------\n",
      "const              -0.1049      0.020     -5.379      0.000      -0.143      -0.067\n",
      "area                0.2914      0.037      7.966      0.000       0.219       0.363\n",
      "bathrooms           0.0997      0.011      9.359      0.000       0.079       0.121\n",
      "stories             0.0373      0.006      6.352      0.000       0.026       0.049\n",
      "mainroad            0.0487      0.014      3.418      0.001       0.021       0.077\n",
      "guestroom           0.0294      0.013      2.195      0.029       0.003       0.056\n",
      "basement            0.0225      0.011      2.075      0.039       0.001       0.044\n",
      "hotwaterheating     0.0715      0.021      3.456      0.001       0.031       0.112\n",
      "airconditioning     0.0733      0.011      6.677      0.000       0.052       0.095\n",
      "parking             0.0215      0.006      3.633      0.000       0.010       0.033\n",
      "prefarea            0.0573      0.011      5.032      0.000       0.035       0.080\n",
      "unfurnished        -0.0306      0.010     -3.050      0.002      -0.050      -0.011\n",
      "==============================================================================\n",
      "Omnibus:                       91.179   Durbin-Watson:                   2.064\n",
      "Prob(Omnibus):                  0.000   Jarque-Bera (JB):              277.636\n",
      "Skew:                           1.020   Prob(JB):                     5.15e-61\n",
      "Kurtosis:                       6.488   Cond. No.                         23.3\n",
      "==============================================================================\n",
      "\n",
      "Notes:\n",
      "[1] Standard Errors assume that the covariance matrix of the errors is correctly specified.\n"
     ]
    }
   ],
   "source": [
    "x_train_new=model(x_train_new,y_train)"
   ]
  },
  {
   "cell_type": "code",
   "execution_count": 48,
   "id": "9ec6f25c",
   "metadata": {},
   "outputs": [
    {
     "data": {
      "text/html": [
       "<div>\n",
       "<style scoped>\n",
       "    .dataframe tbody tr th:only-of-type {\n",
       "        vertical-align: middle;\n",
       "    }\n",
       "\n",
       "    .dataframe tbody tr th {\n",
       "        vertical-align: top;\n",
       "    }\n",
       "\n",
       "    .dataframe thead th {\n",
       "        text-align: right;\n",
       "    }\n",
       "</style>\n",
       "<table border=\"1\" class=\"dataframe\">\n",
       "  <thead>\n",
       "    <tr style=\"text-align: right;\">\n",
       "      <th></th>\n",
       "      <th>features</th>\n",
       "      <th>vif</th>\n",
       "    </tr>\n",
       "  </thead>\n",
       "  <tbody>\n",
       "    <tr>\n",
       "      <th>0</th>\n",
       "      <td>const</td>\n",
       "      <td>18.272256</td>\n",
       "    </tr>\n",
       "    <tr>\n",
       "      <th>1</th>\n",
       "      <td>area</td>\n",
       "      <td>1.332501</td>\n",
       "    </tr>\n",
       "    <tr>\n",
       "      <th>6</th>\n",
       "      <td>basement</td>\n",
       "      <td>1.277210</td>\n",
       "    </tr>\n",
       "    <tr>\n",
       "      <th>3</th>\n",
       "      <td>stories</td>\n",
       "      <td>1.273327</td>\n",
       "    </tr>\n",
       "    <tr>\n",
       "      <th>5</th>\n",
       "      <td>guestroom</td>\n",
       "      <td>1.224242</td>\n",
       "    </tr>\n",
       "    <tr>\n",
       "      <th>9</th>\n",
       "      <td>parking</td>\n",
       "      <td>1.223047</td>\n",
       "    </tr>\n",
       "    <tr>\n",
       "      <th>2</th>\n",
       "      <td>bathrooms</td>\n",
       "      <td>1.213253</td>\n",
       "    </tr>\n",
       "    <tr>\n",
       "      <th>8</th>\n",
       "      <td>airconditioning</td>\n",
       "      <td>1.206561</td>\n",
       "    </tr>\n",
       "    <tr>\n",
       "      <th>4</th>\n",
       "      <td>mainroad</td>\n",
       "      <td>1.155837</td>\n",
       "    </tr>\n",
       "    <tr>\n",
       "      <th>10</th>\n",
       "      <td>prefarea</td>\n",
       "      <td>1.122519</td>\n",
       "    </tr>\n",
       "    <tr>\n",
       "      <th>11</th>\n",
       "      <td>unfurnished</td>\n",
       "      <td>1.061369</td>\n",
       "    </tr>\n",
       "    <tr>\n",
       "      <th>7</th>\n",
       "      <td>hotwaterheating</td>\n",
       "      <td>1.050120</td>\n",
       "    </tr>\n",
       "  </tbody>\n",
       "</table>\n",
       "</div>"
      ],
      "text/plain": [
       "           features        vif\n",
       "0             const  18.272256\n",
       "1              area   1.332501\n",
       "6          basement   1.277210\n",
       "3           stories   1.273327\n",
       "5         guestroom   1.224242\n",
       "9           parking   1.223047\n",
       "2         bathrooms   1.213253\n",
       "8   airconditioning   1.206561\n",
       "4          mainroad   1.155837\n",
       "10         prefarea   1.122519\n",
       "11      unfurnished   1.061369\n",
       "7   hotwaterheating   1.050120"
      ]
     },
     "execution_count": 48,
     "metadata": {},
     "output_type": "execute_result"
    }
   ],
   "source": [
    "\n",
    "\n",
    "vif(x_train_new)"
   ]
  },
  {
   "cell_type": "code",
   "execution_count": 49,
   "id": "1a7c32ff",
   "metadata": {},
   "outputs": [],
   "source": [
    "lm=sm.OLS(y_train,x_train_new).fit()\n",
    "y_train_price=lm.predict(x_train_new)"
   ]
  },
  {
   "cell_type": "code",
   "execution_count": 50,
   "id": "648a5d47",
   "metadata": {},
   "outputs": [
    {
     "name": "stderr",
     "output_type": "stream",
     "text": [
      "C:\\Users\\A\\.conda\\envs\\jupycourse\\lib\\site-packages\\seaborn\\distributions.py:2619: FutureWarning: `distplot` is a deprecated function and will be removed in a future version. Please adapt your code to use either `displot` (a figure-level function with similar flexibility) or `histplot` (an axes-level function for histograms).\n",
      "  warnings.warn(msg, FutureWarning)\n"
     ]
    },
    {
     "data": {
      "text/plain": [
       "Text(0.5, 1.0, 'errors')"
      ]
     },
     "execution_count": 50,
     "metadata": {},
     "output_type": "execute_result"
    },
    {
     "data": {
      "image/png": "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\n",
      "text/plain": [
       "<Figure size 1080x1440 with 1 Axes>"
      ]
     },
     "metadata": {
      "needs_background": "light"
     },
     "output_type": "display_data"
    }
   ],
   "source": [
    "plt.figure(figsize=(15,20))\n",
    "sns.distplot((y_train-y_train_price))\n",
    "plt.title('errors')"
   ]
  },
  {
   "cell_type": "code",
   "execution_count": null,
   "id": "a86da02e",
   "metadata": {},
   "outputs": [],
   "source": []
  },
  {
   "cell_type": "code",
   "execution_count": null,
   "id": "ef218c28",
   "metadata": {},
   "outputs": [],
   "source": []
  },
  {
   "cell_type": "code",
   "execution_count": 51,
   "id": "57782265",
   "metadata": {},
   "outputs": [],
   "source": [
    "y_test=df_test.pop('price')\n",
    "x_test=df_test\n",
    "x_train_new=x_train_new.drop('const',axis=1)\n",
    "x_test_new=x_test[x_train_new.columns]\n",
    "x_test_new=sm.add_constant(x_test_new)"
   ]
  },
  {
   "cell_type": "code",
   "execution_count": 52,
   "id": "567cd2f3",
   "metadata": {},
   "outputs": [],
   "source": [
    "y_pred=lm.predict(x_test_new)"
   ]
  },
  {
   "cell_type": "code",
   "execution_count": 53,
   "id": "8a7fa704",
   "metadata": {},
   "outputs": [
    {
     "data": {
      "text/plain": [
       "0.7070744152266688"
      ]
     },
     "execution_count": 53,
     "metadata": {},
     "output_type": "execute_result"
    }
   ],
   "source": [
    "from sklearn.metrics import r2_score\n",
    "r2_score(y_test,y_pred)"
   ]
  },
  {
   "cell_type": "code",
   "execution_count": 54,
   "id": "a47f5a59",
   "metadata": {},
   "outputs": [
    {
     "data": {
      "text/plain": [
       "<matplotlib.collections.PathCollection at 0x139befd7d30>"
      ]
     },
     "execution_count": 54,
     "metadata": {},
     "output_type": "execute_result"
    },
    {
     "data": {
      "image/png": "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\n",
      "text/plain": [
       "<Figure size 1440x1440 with 1 Axes>"
      ]
     },
     "metadata": {
      "needs_background": "light"
     },
     "output_type": "display_data"
    }
   ],
   "source": [
    "plt.figure(figsize=(20,20))\n",
    "plt.scatter(y_test,y_pred)"
   ]
  },
  {
   "cell_type": "code",
   "execution_count": 55,
   "id": "bf4bcbf2",
   "metadata": {},
   "outputs": [
    {
     "data": {
      "text/plain": [
       "(137,)"
      ]
     },
     "execution_count": 55,
     "metadata": {},
     "output_type": "execute_result"
    }
   ],
   "source": [
    "y_pred.shape"
   ]
  },
  {
   "cell_type": "code",
   "execution_count": 56,
   "id": "6fead21a",
   "metadata": {},
   "outputs": [
    {
     "data": {
      "text/plain": [
       "(137,)"
      ]
     },
     "execution_count": 56,
     "metadata": {},
     "output_type": "execute_result"
    }
   ],
   "source": [
    "y_test.shape"
   ]
  },
  {
   "cell_type": "code",
   "execution_count": 57,
   "id": "b163dfb0",
   "metadata": {},
   "outputs": [
    {
     "name": "stdout",
     "output_type": "stream",
     "text": [
      "                            OLS Regression Results                            \n",
      "==============================================================================\n",
      "Dep. Variable:                  price   R-squared:                       0.665\n",
      "Model:                            OLS   Adj. R-squared:                  0.656\n",
      "Method:                 Least Squares   F-statistic:                     71.42\n",
      "Date:                Wed, 15 Jun 2022   Prob (F-statistic):           6.92e-87\n",
      "Time:                        18:02:51   Log-Likelihood:                 399.95\n",
      "No. Observations:                 408   AIC:                            -775.9\n",
      "Df Residuals:                     396   BIC:                            -727.8\n",
      "Df Model:                          11                                         \n",
      "Covariance Type:            nonrobust                                         \n",
      "===================================================================================\n",
      "                      coef    std err          t      P>|t|      [0.025      0.975]\n",
      "-----------------------------------------------------------------------------------\n",
      "const              -0.1049      0.020     -5.379      0.000      -0.143      -0.067\n",
      "area                0.2914      0.037      7.966      0.000       0.219       0.363\n",
      "bathrooms           0.0997      0.011      9.359      0.000       0.079       0.121\n",
      "stories             0.0373      0.006      6.352      0.000       0.026       0.049\n",
      "mainroad            0.0487      0.014      3.418      0.001       0.021       0.077\n",
      "guestroom           0.0294      0.013      2.195      0.029       0.003       0.056\n",
      "basement            0.0225      0.011      2.075      0.039       0.001       0.044\n",
      "hotwaterheating     0.0715      0.021      3.456      0.001       0.031       0.112\n",
      "airconditioning     0.0733      0.011      6.677      0.000       0.052       0.095\n",
      "parking             0.0215      0.006      3.633      0.000       0.010       0.033\n",
      "prefarea            0.0573      0.011      5.032      0.000       0.035       0.080\n",
      "unfurnished        -0.0306      0.010     -3.050      0.002      -0.050      -0.011\n",
      "==============================================================================\n",
      "Omnibus:                       91.179   Durbin-Watson:                   2.064\n",
      "Prob(Omnibus):                  0.000   Jarque-Bera (JB):              277.636\n",
      "Skew:                           1.020   Prob(JB):                     5.15e-61\n",
      "Kurtosis:                       6.488   Cond. No.                         23.3\n",
      "==============================================================================\n",
      "\n",
      "Notes:\n",
      "[1] Standard Errors assume that the covariance matrix of the errors is correctly specified.\n"
     ]
    }
   ],
   "source": [
    "print(lm.summary())"
   ]
  },
  {
   "cell_type": "code",
   "execution_count": 58,
   "id": "95a13c11",
   "metadata": {},
   "outputs": [],
   "source": [
    "lr.fit(x_train_new,y_train)\n",
    "x_test_new=x_test_new.drop('const',axis=1)"
   ]
  },
  {
   "cell_type": "code",
   "execution_count": 59,
   "id": "f1097ef9",
   "metadata": {},
   "outputs": [],
   "source": [
    "y_pred_lr=lr.predict(x_test_new)\n"
   ]
  },
  {
   "cell_type": "code",
   "execution_count": 60,
   "id": "a4ce481d",
   "metadata": {},
   "outputs": [
    {
     "data": {
      "text/plain": [
       "0.707074415226669"
      ]
     },
     "execution_count": 60,
     "metadata": {},
     "output_type": "execute_result"
    }
   ],
   "source": [
    "r2_score(y_test,y_pred_lr)"
   ]
  },
  {
   "cell_type": "code",
   "execution_count": 61,
   "id": "969944c6",
   "metadata": {},
   "outputs": [
    {
     "data": {
      "text/html": [
       "<style>#sk-container-id-1 {color: black;background-color: white;}#sk-container-id-1 pre{padding: 0;}#sk-container-id-1 div.sk-toggleable {background-color: white;}#sk-container-id-1 label.sk-toggleable__label {cursor: pointer;display: block;width: 100%;margin-bottom: 0;padding: 0.3em;box-sizing: border-box;text-align: center;}#sk-container-id-1 label.sk-toggleable__label-arrow:before {content: \"▸\";float: left;margin-right: 0.25em;color: #696969;}#sk-container-id-1 label.sk-toggleable__label-arrow:hover:before {color: black;}#sk-container-id-1 div.sk-estimator:hover label.sk-toggleable__label-arrow:before {color: black;}#sk-container-id-1 div.sk-toggleable__content {max-height: 0;max-width: 0;overflow: hidden;text-align: left;background-color: #f0f8ff;}#sk-container-id-1 div.sk-toggleable__content pre {margin: 0.2em;color: black;border-radius: 0.25em;background-color: #f0f8ff;}#sk-container-id-1 input.sk-toggleable__control:checked~div.sk-toggleable__content {max-height: 200px;max-width: 100%;overflow: auto;}#sk-container-id-1 input.sk-toggleable__control:checked~label.sk-toggleable__label-arrow:before {content: \"▾\";}#sk-container-id-1 div.sk-estimator input.sk-toggleable__control:checked~label.sk-toggleable__label {background-color: #d4ebff;}#sk-container-id-1 div.sk-label input.sk-toggleable__control:checked~label.sk-toggleable__label {background-color: #d4ebff;}#sk-container-id-1 input.sk-hidden--visually {border: 0;clip: rect(1px 1px 1px 1px);clip: rect(1px, 1px, 1px, 1px);height: 1px;margin: -1px;overflow: hidden;padding: 0;position: absolute;width: 1px;}#sk-container-id-1 div.sk-estimator {font-family: monospace;background-color: #f0f8ff;border: 1px dotted black;border-radius: 0.25em;box-sizing: border-box;margin-bottom: 0.5em;}#sk-container-id-1 div.sk-estimator:hover {background-color: #d4ebff;}#sk-container-id-1 div.sk-parallel-item::after {content: \"\";width: 100%;border-bottom: 1px solid gray;flex-grow: 1;}#sk-container-id-1 div.sk-label:hover label.sk-toggleable__label {background-color: #d4ebff;}#sk-container-id-1 div.sk-serial::before {content: \"\";position: absolute;border-left: 1px solid gray;box-sizing: border-box;top: 0;bottom: 0;left: 50%;z-index: 0;}#sk-container-id-1 div.sk-serial {display: flex;flex-direction: column;align-items: center;background-color: white;padding-right: 0.2em;padding-left: 0.2em;position: relative;}#sk-container-id-1 div.sk-item {position: relative;z-index: 1;}#sk-container-id-1 div.sk-parallel {display: flex;align-items: stretch;justify-content: center;background-color: white;position: relative;}#sk-container-id-1 div.sk-item::before, #sk-container-id-1 div.sk-parallel-item::before {content: \"\";position: absolute;border-left: 1px solid gray;box-sizing: border-box;top: 0;bottom: 0;left: 50%;z-index: -1;}#sk-container-id-1 div.sk-parallel-item {display: flex;flex-direction: column;z-index: 1;position: relative;background-color: white;}#sk-container-id-1 div.sk-parallel-item:first-child::after {align-self: flex-end;width: 50%;}#sk-container-id-1 div.sk-parallel-item:last-child::after {align-self: flex-start;width: 50%;}#sk-container-id-1 div.sk-parallel-item:only-child::after {width: 0;}#sk-container-id-1 div.sk-dashed-wrapped {border: 1px dashed gray;margin: 0 0.4em 0.5em 0.4em;box-sizing: border-box;padding-bottom: 0.4em;background-color: white;}#sk-container-id-1 div.sk-label label {font-family: monospace;font-weight: bold;display: inline-block;line-height: 1.2em;}#sk-container-id-1 div.sk-label-container {text-align: center;}#sk-container-id-1 div.sk-container {/* jupyter's `normalize.less` sets `[hidden] { display: none; }` but bootstrap.min.css set `[hidden] { display: none !important; }` so we also need the `!important` here to be able to override the default hidden behavior on the sphinx rendered scikit-learn.org. See: https://github.com/scikit-learn/scikit-learn/issues/21755 */display: inline-block !important;position: relative;}#sk-container-id-1 div.sk-text-repr-fallback {display: none;}</style><div id=\"sk-container-id-1\" class=\"sk-top-container\"><div class=\"sk-text-repr-fallback\"><pre>LinearRegression()</pre><b>In a Jupyter environment, please rerun this cell to show the HTML representation or trust the notebook. <br />On GitHub, the HTML representation is unable to render, please try loading this page with nbviewer.org.</b></div><div class=\"sk-container\" hidden><div class=\"sk-item\"><div class=\"sk-estimator sk-toggleable\"><input class=\"sk-toggleable__control sk-hidden--visually\" id=\"sk-estimator-id-1\" type=\"checkbox\" checked><label for=\"sk-estimator-id-1\" class=\"sk-toggleable__label sk-toggleable__label-arrow\">LinearRegression</label><div class=\"sk-toggleable__content\"><pre>LinearRegression()</pre></div></div></div></div></div>"
      ],
      "text/plain": [
       "LinearRegression()"
      ]
     },
     "execution_count": 61,
     "metadata": {},
     "output_type": "execute_result"
    }
   ],
   "source": [
    "lr.fit(x_train,y_train)\n"
   ]
  },
  {
   "cell_type": "code",
   "execution_count": 62,
   "id": "ebc0af4a",
   "metadata": {},
   "outputs": [],
   "source": [
    "y_pred_lr2=lr.predict(x_test)"
   ]
  },
  {
   "cell_type": "code",
   "execution_count": 63,
   "id": "0b712fd1",
   "metadata": {},
   "outputs": [
    {
     "data": {
      "text/plain": [
       "0.7092128338076729"
      ]
     },
     "execution_count": 63,
     "metadata": {},
     "output_type": "execute_result"
    }
   ],
   "source": [
    "r2_score(y_test,y_pred_lr2)"
   ]
  },
  {
   "cell_type": "code",
   "execution_count": 69,
   "id": "48ff4e1d",
   "metadata": {},
   "outputs": [
    {
     "data": {
      "text/plain": [
       "0.7092128338076729"
      ]
     },
     "execution_count": 69,
     "metadata": {},
     "output_type": "execute_result"
    }
   ],
   "source": [
    "lr.score(x_test,y_test)"
   ]
  },
  {
   "cell_type": "code",
   "execution_count": 70,
   "id": "069d20bd",
   "metadata": {},
   "outputs": [
    {
     "data": {
      "text/plain": [
       "'C:\\\\Users\\\\A'"
      ]
     },
     "execution_count": 70,
     "metadata": {},
     "output_type": "execute_result"
    }
   ],
   "source": [
    "pwd\n"
   ]
  },
  {
   "cell_type": "code",
   "execution_count": null,
   "id": "85bed214",
   "metadata": {},
   "outputs": [],
   "source": []
  }
 ],
 "metadata": {
  "kernelspec": {
   "display_name": "Python 3 (ipykernel)",
   "language": "python",
   "name": "python3"
  },
  "language_info": {
   "codemirror_mode": {
    "name": "ipython",
    "version": 3
   },
   "file_extension": ".py",
   "mimetype": "text/x-python",
   "name": "python",
   "nbconvert_exporter": "python",
   "pygments_lexer": "ipython3",
   "version": "3.9.12"
  }
 },
 "nbformat": 4,
 "nbformat_minor": 5
}
